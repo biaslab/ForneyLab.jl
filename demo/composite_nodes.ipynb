{
 "cells": [
  {
   "cell_type": "markdown",
   "metadata": {},
   "source": [
    "# Composite nodes\n",
    "\n",
    "One of the convenient properties of Forney-style factor graphs (as opposed to regular factor graphs) is that they naturally allow for composability: one can draw a box around part of an FFG and treat this box as a new type of factor node. For example, one can combine a gain (multiplication) node with the addition node in a so-called *composite node*, as depicted in the following graph (Fig. 4.2 from Korl's [A factor graph approach to signal modelling, system identification and filtering](https://www.research-collection.ethz.ch/handle/20.500.11850/82737)):\n",
    "\n",
    "<img src=\"./figures/information_filter.png\" width=\"350\"/>\n",
    "\n",
    "Composite nodes are useful for two reasons:\n",
    "\n",
    "1. Building large graphs becomes more convenient by 'packaging' repetitive parts of the graph as composite nodes.\n",
    "2. One can define 'shortcut rules' for message updates, which might be more efficient and/or numerically stable than performing vanilla message passing on the internals of the composite node. For example, in the schedule shown above, message (4) is calculated directly from messages (2) and (3). The shortcut rule might exploit the matrix inversion lemma, or involve some optimization algorithm.\n",
    "\n",
    "To demonstrate the use of composite nodes, in this demo we will build a gain-addition combination that constrains\n",
    "\n",
    "\\begin{align*}\n",
    "    x_1 = x_0 + b\\cdot u_1\\,,\n",
    "\\end{align*}\n",
    "\n",
    "where `x_0` and `u_1` have Gaussian priors, and b is a constant matrix. We are interested in computing a belief over `x_1`.\n",
    "\n",
    "We first construct a \"flat\" graph that represents the gain and addition contraints as two distinct factors, and generate a schedule for inferring a belief for `x_1`. Then, we compare the resulting schedule with a schedule generated on an FFG with a _composite_ gain-addition node. Finally, we show how to register a custom update rule with ForneyLab."
   ]
  },
  {
   "cell_type": "markdown",
   "metadata": {},
   "source": [
    "## Schedule generation without composite node"
   ]
  },
  {
   "cell_type": "code",
   "execution_count": 10,
   "metadata": {},
   "outputs": [],
   "source": [
    "using ForneyLab\n",
    "using LinearAlgebra\n",
    "\n",
    "# Define factor graph for x1 = x0 + b*u1, where x0 and u1 have Gaussian priors, and b is a constant.\n",
    "# This is a part of the information filter graph from the introduction.\n",
    "g1 = FactorGraph()\n",
    "\n",
    "b = [1.0, 0.5]' # 1x2 Matrix b\n",
    "\n",
    "@RV x_0 ~ Gaussian{Canonical}(1.0, 1.0)\n",
    "@RV u_1 ~ Gaussian{Canonical}(ones(2), eye(2))\n",
    "@RV x_1 = x_0 + b*u_1;"
   ]
  },
  {
   "cell_type": "code",
   "execution_count": 11,
   "metadata": {},
   "outputs": [
    {
     "name": "stdout",
     "output_type": "stream",
     "text": [
      "1.\tSPGaussianCanonicalOutNPP on Interface 1 (out) of Gaussian{Canonical} gaussianweightedmeanprecision_1\n",
      "2.\tSPGaussianCanonicalOutNPP on Interface 1 (out) of Gaussian{Canonical} gaussianweightedmeanprecision_2\n",
      "3.\tSPMultiplicationOutNGP on Interface 1 (out) of Multiplication multiplication_1\n",
      "4.\tSPAdditionOutNGG on Interface 1 (out) of Addition addition_1\n",
      "\n"
     ]
    }
   ],
   "source": [
    "pfz = PosteriorFactorization(g1) # Initialize a posterior factorization\n",
    "flat_algorithm = messagePassingAlgorithm(x_1)\n",
    "flat_schedule = flat_algorithm.posterior_factorization.posterior_factors[Symbol(\"\")].schedule\n",
    "\n",
    "# draw(g, schedule=flat_schedule) # Inspect the resulting schedule\n",
    "\n",
    "println(flat_schedule)"
   ]
  },
  {
   "cell_type": "markdown",
   "metadata": {},
   "source": [
    "## Usage of composite nodes in an FFG\n",
    "\n",
    "Now we 'draw a box' around the multiplication and addition nodes, and create a composite node. We can easily define a composite node using ForneyLab's `@composite` macro."
   ]
  },
  {
   "cell_type": "code",
   "execution_count": 12,
   "metadata": {},
   "outputs": [],
   "source": [
    "# Define a composite node for z = x + b*y\n",
    "@composite GainAddition (z, x, y) begin\n",
    "    # Specify the 'internal factor graph' of the GainAddion composite node.\n",
    "    # z, x, and y can be used as if they are existing Variables in this block.\n",
    "    b = [1.0, 0.5]'\n",
    "    \n",
    "    @RV z = x + b*y\n",
    "end"
   ]
  },
  {
   "cell_type": "markdown",
   "metadata": {},
   "source": [
    "Here, `GainAddition` is the name of the composite node that we're defining. The tuple `(z, x, y)` defines the variables that this node constrains. The order of these variables simultaneously fixes the argument order for the update rules. Now that our custom `GainAddition` composite node is defined, we can use it in the graph definition."
   ]
  },
  {
   "cell_type": "code",
   "execution_count": 13,
   "metadata": {},
   "outputs": [],
   "source": [
    "g2 = FactorGraph()\n",
    "\n",
    "@RV x_0 ~ Gaussian{Canonical}(1.0, 1.0)\n",
    "@RV u_1 ~ Gaussian{Canonical}(ones(2), eye(2))\n",
    "@RV x_1 ~ GainAddition(x_0, u_1);"
   ]
  },
  {
   "cell_type": "markdown",
   "metadata": {},
   "source": [
    "## Defining a custom shortcut rule"
   ]
  },
  {
   "cell_type": "markdown",
   "metadata": {},
   "source": [
    "If we actually want to use composite nodes to get a different (i.e. more efficient) algorithm, we'll have to specify message update rules that apply specifically to the composite nodes at hand. These rules are sometimes referred to as _shortcut rules_, since they provide a way to shortcut the calculation of internal messages. This rule definition for the composite nodes is analogous to the rule definitions for regular nodes. If we then build a new sum-product algorithm, the custom shortcut rule `SPGainAdditionOutNGG` will be automatically inserted. The rule declaration below defines the distribution family of the outgoing message from the composite node `GainAddition` as `Gaussian`."
   ]
  },
  {
   "cell_type": "code",
   "execution_count": 14,
   "metadata": {},
   "outputs": [],
   "source": [
    "@sumProductRule(:node_type     => GainAddition, # Our custom composite node\n",
    "                :outbound_type => Message{Gaussian}, # This rule produces a Gaussian message\n",
    "                :inbound_types => (Nothing, Message{Gaussian}, Message{Gaussian}), # Incoming message types\n",
    "                :name          => SPGainAdditionOutNGG) # Name of the update rule"
   ]
  },
  {
   "cell_type": "markdown",
   "metadata": {},
   "source": [
    "Here, the resulting schedule contains one less message than before, because message (3) directly computes the belief over `x_1` from the prior beliefs."
   ]
  },
  {
   "cell_type": "code",
   "execution_count": 15,
   "metadata": {},
   "outputs": [
    {
     "name": "stdout",
     "output_type": "stream",
     "text": [
      "1.\tSPGaussianCanonicalOutNPP on Interface 1 (out) of Gaussian{Canonical} gaussianweightedmeanprecision_1\n",
      "2.\tSPGaussianCanonicalOutNPP on Interface 1 (out) of Gaussian{Canonical} gaussianweightedmeanprecision_2\n",
      "3.\tSPGainAdditionOutNGG on Interface 1 (z) of GainAddition gainaddition_1\n",
      "\n"
     ]
    }
   ],
   "source": [
    "pfz = PosteriorFactorization(g2) # Explicitly create a new posterior factorization\n",
    "composite_algorithm = messagePassingAlgorithm(x_1)\n",
    "composite_schedule = composite_algorithm.posterior_factorization.posterior_factors[Symbol(\"\")].schedule\n",
    "\n",
    "# draw(g2, schedule=composite_schedule) # Inspect the resulting schedule\n",
    "\n",
    "println(composite_schedule)"
   ]
  },
  {
   "cell_type": "markdown",
   "metadata": {},
   "source": [
    "## Executing the custom rule\n",
    "We can directly compile the algorithm to Julia code."
   ]
  },
  {
   "cell_type": "code",
   "execution_count": 16,
   "metadata": {},
   "outputs": [
    {
     "name": "stdout",
     "output_type": "stream",
     "text": [
      "begin\n",
      "\n",
      "function step!(data::Dict, marginals::Dict=Dict(), messages::Vector{Message}=Array{Message}(undef, 3))\n",
      "\n",
      "messages[1] = ruleSPGaussianCanonicalOutNPP(nothing, Message(Univariate, PointMass, m=1.0), Message(Univariate, PointMass, m=1.0))\n",
      "messages[2] = ruleSPGaussianCanonicalOutNPP(nothing, Message(Multivariate, PointMass, m=[1.0, 1.0]), Message(MatrixVariate, PointMass, m=Diagonal(Bool[1, 1])))\n",
      "messages[3] = ruleSPGainAdditionOutNGG(nothing, messages[1], messages[2])\n",
      "\n",
      "marginals[:x_1] = messages[3].dist\n",
      "\n",
      "return marginals\n",
      "\n",
      "end\n",
      "\n",
      "end # block\n"
     ]
    }
   ],
   "source": [
    "source_code = algorithmSourceCode(composite_algorithm)\n",
    "eval(Meta.parse(source_code)) # Load algorithm\n",
    "\n",
    "println(source_code) # Inspect the algorithm"
   ]
  },
  {
   "cell_type": "markdown",
   "metadata": {},
   "source": [
    "The above algorithm makes a call to our custom update rule `ruleSPGainAdditionOutNGG`, but we have not yet implemented this rule, which we will do below. We define two functions, the first of which implements a shortcut rule for the specific case when both incoming messages are weighted-mean-precision parameterized. By using the matrix inversion lemma, this update will lead to significant speedup in the case high-dimensional messages. This demo however just concerns the 2-D case, but generalizations can be readily implemented."
   ]
  },
  {
   "cell_type": "code",
   "execution_count": 17,
   "metadata": {},
   "outputs": [
    {
     "data": {
      "text/plain": [
       "ruleSPGainAdditionOutNGG (generic function with 2 methods)"
      ]
     },
     "execution_count": 17,
     "metadata": {},
     "output_type": "execute_result"
    }
   ],
   "source": [
    "# Specific shortcut update with high-performance implementation\n",
    "function ruleSPGainAdditionOutNGG(\n",
    "    msg_out::Nothing,\n",
    "    msg_x::Message{Gaussian{Canonical}, Univariate},\n",
    "    msg_y::Message{Gaussian{Canonical}, Multivariate})\n",
    "\n",
    "    b = [1.0, 0.5]'\n",
    "    \n",
    "    xi_x = msg_x.dist.params[:xi]\n",
    "    W_x = msg_x.dist.params[:w]\n",
    "    xi_y = msg_y.dist.params[:xi]\n",
    "    W_y = msg_y.dist.params[:w]\n",
    "    \n",
    "    H = cholinv(W_y + b'*W_x*b)\n",
    "    \n",
    "    Message(Univariate, \n",
    "            Gaussian{Canonical}, \n",
    "            xi = first(xi_x + W_x*b*H*(xi_y - b'*xi_x)), \n",
    "            w  = first(W_x - W_x*b*H*b'*W_x))\n",
    "end\n",
    "\n",
    "# Catch-all backup update with lesser efficiency\n",
    "function ruleSPGainAdditionOutNGG(\n",
    "    msg_out::Nothing,\n",
    "    msg_x::Message{F1, Univariate},\n",
    "    msg_y::Message{F2, Multivariate}) where {F1<:Gaussian, F2<:Gaussian}\n",
    "\n",
    "    b = [1.0, 0.5]'\n",
    "\n",
    "    d_x = convert(Distribution{Univariate, Gaussian}, msg_x.dist)\n",
    "    d_y = convert(Distribution{Multivariate, Gaussian}, msg_y.dist)\n",
    "    \n",
    "    Message(Univariate, \n",
    "            Gaussian, \n",
    "            m = first(d_x.params[:m] + b*d_y.params[:m]), \n",
    "            v = first(d_x.params[:v] + b*d_y.params[:v]*b'))\n",
    "end"
   ]
  },
  {
   "cell_type": "code",
   "execution_count": 18,
   "metadata": {},
   "outputs": [
    {
     "data": {
      "text/plain": [
       "Dict{Any, Any} with 1 entry:\n",
       "  :x_1 => 𝒩(xi=1.11, w=0.44)…"
      ]
     },
     "execution_count": 18,
     "metadata": {},
     "output_type": "execute_result"
    }
   ],
   "source": [
    "step!(Dict()) # Execute the algorithm"
   ]
  },
  {
   "cell_type": "code",
   "execution_count": null,
   "metadata": {},
   "outputs": [],
   "source": []
  }
 ],
 "metadata": {
  "@webio": {
   "lastCommId": null,
   "lastKernelId": null
  },
  "kernelspec": {
   "display_name": "Julia 1.6.4",
   "language": "julia",
   "name": "julia-1.6"
  },
  "language_info": {
   "file_extension": ".jl",
   "mimetype": "application/julia",
   "name": "julia",
   "version": "1.6.4"
  }
 },
 "nbformat": 4,
 "nbformat_minor": 4
}
