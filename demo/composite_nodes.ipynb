{
 "cells": [
  {
   "cell_type": "markdown",
   "metadata": {},
   "source": [
    "# Composite nodes\n",
    "\n",
    "One of the convenient properties of Forney-style factor graphs (as opposed to regular factor graphs) is that they naturally allow for composability: one can draw a box around part of an FFG and treat this box as a new type of factor node. For example, one can combine a gain (multiplication) node with the addition node in a so-called *composite node*, as depicted in the following graph (Fig. 4.2 from Korl's [A factor graph approach to signal modelling, system identification and filtering](https://www.research-collection.ethz.ch/handle/20.500.11850/82737)):\n",
    "\n",
    "<img src=\"./figures/information_filter.png\" width=\"350\"/>\n",
    "\n",
    "Composite nodes are useful for two reasons:\n",
    "\n",
    "1. Building large graphs becomes more convenient by 'packaging' repetitive parts of the graph as composite nodes.\n",
    "2. One can define 'shortcut rules' for message updates, which might be more efficient and/or numerically stable than performing vanilla message passing on the internals of the composite node. For example, in the schedule shown above, message (4) is calculated directly from messages (2) and (3). The shortcut rule might exploit the matrix inversion lemma, or involve some optimization algorithm.\n",
    "\n",
    "To demonstrate the use of composite nodes, in this demo we will build a gain-addition combination that constrains\n",
    "\n",
    "\\begin{align*}\n",
    "    x_1 = x_0 + b\\cdot u_1\\,,\n",
    "\\end{align*}\n",
    "\n",
    "where `x_0` and `u_1` have Gaussian priors, and b is a constant matrix. We are interested in computing a belief over `x_1`.\n",
    "\n",
    "We first construct a \"flat\" graph that represents the gain and addition contraints as two distinct factors, and generate a schedule for inferring a belief for `x_1`. Then, we compare the resulting schedule with a schedule generated on an FFG with a _composite_ gain-addition node. Finally, we show how to register a custom update rule with ForneyLab."
   ]
  },
  {
   "cell_type": "markdown",
   "metadata": {},
   "source": [
    "## Schedule generation without composite node"
   ]
  },
  {
   "cell_type": "code",
   "execution_count": 1,
   "metadata": {},
   "outputs": [],
   "source": [
    "using ForneyLab\n",
    "using LinearAlgebra\n",
    "\n",
    "# Define factor graph for x1 = x0 + b*u1, where x0 and u1 have Gaussian priors, and b is a constant.\n",
    "# This is a part of the information filter graph from the introduction.\n",
    "g = FactorGraph()\n",
    "\n",
    "b = [1.0, 0.5]' # 1x2 Matrix b\n",
    "\n",
    "@RV x_0 ~ GaussianWeightedMeanPrecision(1.0, 1.0)\n",
    "@RV u_1 ~ GaussianWeightedMeanPrecision(ones(2), eye(2))\n",
    "@RV x_1 = x_0 + b*u_1;"
   ]
  },
  {
   "cell_type": "code",
   "execution_count": 2,
   "metadata": {},
   "outputs": [
    {
     "ename": "UndefVarError",
     "evalue": "UndefVarError: g1 not defined",
     "output_type": "error",
     "traceback": [
      "UndefVarError: g1 not defined",
      "",
      "Stacktrace:",
      " [1] top-level scope at In[12]:1"
     ]
    }
   ],
   "source": [
    "pfz = PosteriorFactorization(g1) # Initialize a posterior factorization\n",
    "flat_algorithm = messagePassingAlgorithm(x_1)\n",
    "flat_schedule = flat_algorithm.posterior_factorization.posterior_factors[Symbol(\"\")].schedule\n",
    "\n",
    "draw(g, schedule=flat_schedule) # Inspect the resulting schedule\n",
    "\n",
    "println(flat_schedule)"
   ]
  },
  {
   "cell_type": "markdown",
   "metadata": {},
   "source": [
    "## Usage of composite nodes in an FFG\n",
    "\n",
    "Now we 'draw a box' around the multiplication and addition nodes, and create a composite node. We can easily define a composite node using ForneyLab's `@composite` macro."
   ]
  },
  {
   "cell_type": "code",
   "execution_count": 3,
   "metadata": {},
   "outputs": [],
   "source": [
    "# Define a composite node for z = x + b*y\n",
    "@composite GainAddition (z, x, y) begin\n",
    "    # Specify the 'internal factor graph' of the GainAddion composite node.\n",
    "    # z, x, and y can be used as if they are existing Variables in this block.\n",
    "    b = [1.0, 0.5]'\n",
    "    \n",
    "    @RV z = x + b*y\n",
    "end"
   ]
  },
  {
   "cell_type": "markdown",
   "metadata": {},
   "source": [
    "Here, `GainAddition` is the name of the composite node that we're defining. The tuple `(z, x, y)` defines the variables that this node constrains. The order of these variables simultaneously fixes the argument order for the update rules. Now that our custom `GainAddition` composite node is defined, we can use it in the graph definition."
   ]
  },
  {
   "cell_type": "code",
   "execution_count": 4,
   "metadata": {},
   "outputs": [],
   "source": [
    "g2 = FactorGraph()\n",
    "\n",
    "@RV x_0 ~ GaussianWeightedMeanPrecision(1.0, 1.0)\n",
    "@RV u_1 ~ GaussianWeightedMeanPrecision(ones(2), eye(2))\n",
    "@RV x_1 ~ GainAddition(x_0, u_1);"
   ]
  },
  {
   "cell_type": "markdown",
   "metadata": {},
   "source": [
    "## Defining a custom shortcut rule"
   ]
  },
  {
   "cell_type": "markdown",
   "metadata": {},
   "source": [
    "If we actually want to use composite nodes to get a different (i.e. more efficient) algorithm, we'll have to specify message update rules that apply specifically to the composite nodes at hand. These rules are sometimes referred to as _shortcut rules_, since they provide a way to shortcut the calculation of internal messages. This rule definition for the composite nodes is analogous to the rule definitions for regular nodes. If we then build a new sum-product algorithm, the custom shortcut rule `SPGainAdditionOutNGG` will be automatically inserted. The rule declaration below defines the distribution family of the outgoing message from the composite node `GainAddition` as `Gaussian`."
   ]
  },
  {
   "cell_type": "code",
   "execution_count": 5,
   "metadata": {},
   "outputs": [],
   "source": [
    "@sumProductRule(:node_type     => GainAddition, # Our custom composite node\n",
    "                :outbound_type => Message{Gaussian}, # This rule produces a Gaussian message\n",
    "                :inbound_types => (Nothing, Message{Gaussian}, Message{Gaussian}), # Incoming message types\n",
    "                :name          => SPGainAdditionOutNGG) # Name of the update rule"
   ]
  },
  {
   "cell_type": "markdown",
   "metadata": {},
   "source": [
    "Here, the resulting schedule contains one less message than before, because message (3) directly computes the belief over `x_1` from the prior beliefs."
   ]
  },
  {
   "cell_type": "code",
   "execution_count": 6,
   "metadata": {},
   "outputs": [
    {
     "data": {
      "text/html": [
       "<?xml version=\"1.0\" encoding=\"UTF-8\" standalone=\"no\"?>\n",
       "<!DOCTYPE svg PUBLIC \"-//W3C//DTD SVG 1.1//EN\"\n",
       " \"http://www.w3.org/Graphics/SVG/1.1/DTD/svg11.dtd\">\n",
       "<!-- Generated by graphviz version 2.40.1 (20161225.0304)\n",
       " -->\n",
       "<!-- Title: G Pages: 1 -->\n",
       "<svg width=\"612pt\" height=\"395pt\"\n",
       " viewBox=\"0.00 0.00 612.00 395.00\" xmlns=\"http://www.w3.org/2000/svg\" xmlns:xlink=\"http://www.w3.org/1999/xlink\">\n",
       "<g id=\"graph0\" class=\"graph\" transform=\"scale(1 1) rotate(0) translate(4 391)\">\n",
       "<title>G</title>\n",
       "<polygon fill=\"#ffffff\" stroke=\"transparent\" points=\"-4,4 -4,-391 608,-391 608,4 -4,4\"/>\n",
       "<!-- 51218574198164067 -->\n",
       "<g id=\"node1\" class=\"node\">\n",
       "<title>51218574198164067</title>\n",
       "<polygon fill=\"#d3d3d3\" stroke=\"#000000\" points=\"54,-54 0,-54 0,0 54,0 54,-54\"/>\n",
       "<text text-anchor=\"middle\" x=\"27\" y=\"-24.8\" font-family=\"Times,serif\" font-size=\"9.00\" fill=\"#000000\">clamp_1</text>\n",
       "</g>\n",
       "<!-- 10087544866635019670 -->\n",
       "<g id=\"node2\" class=\"node\">\n",
       "<title>10087544866635019670</title>\n",
       "<polygon fill=\"#d3d3d3\" stroke=\"#000000\" points=\"223,-54 169,-54 169,0 223,0 223,-54\"/>\n",
       "<text text-anchor=\"middle\" x=\"196\" y=\"-24.8\" font-family=\"Times,serif\" font-size=\"9.00\" fill=\"#000000\">clamp_2</text>\n",
       "</g>\n",
       "<!-- 17417587583571678208 -->\n",
       "<g id=\"node3\" class=\"node\">\n",
       "<title>17417587583571678208</title>\n",
       "<polygon fill=\"#d3d3d3\" stroke=\"#000000\" points=\"435,-54 381,-54 381,0 435,0 435,-54\"/>\n",
       "<text text-anchor=\"middle\" x=\"408\" y=\"-24.8\" font-family=\"Times,serif\" font-size=\"9.00\" fill=\"#000000\">clamp_3</text>\n",
       "</g>\n",
       "<!-- 11572639651412090156 -->\n",
       "<g id=\"node4\" class=\"node\">\n",
       "<title>11572639651412090156</title>\n",
       "<polygon fill=\"none\" stroke=\"#000000\" points=\"244,-171 104,-171 104,-99 244,-99 244,-171\"/>\n",
       "<text text-anchor=\"middle\" x=\"174\" y=\"-137.8\" font-family=\"Times,serif\" font-size=\"9.00\" fill=\"#000000\">𝒩</text>\n",
       "<text text-anchor=\"middle\" x=\"174\" y=\"-127.8\" font-family=\"Times,serif\" font-size=\"9.00\" fill=\"#000000\">gaussianweightedmeanprecision_1</text>\n",
       "</g>\n",
       "<!-- 11572639651412090156&#45;&#45;51218574198164067 -->\n",
       "<g id=\"edge6\" class=\"edge\">\n",
       "<title>11572639651412090156&#45;&#45;51218574198164067</title>\n",
       "<path fill=\"none\" stroke=\"#000000\" d=\"M124.6422,-98.7371C101.1211,-81.4563 73.8892,-61.4492 54.1696,-46.9613\"/>\n",
       "<text text-anchor=\"start\" x=\"101\" y=\"-74.6\" font-family=\"Times,serif\" font-size=\"8.00\" fill=\"#ff0000\">clamp_1</text>\n",
       "<text text-anchor=\"start\" x=\"54.1696\" y=\"-49.5613\" font-family=\"Times,serif\" font-size=\"8.00\" fill=\"#000000\">1 out </text>\n",
       "<text text-anchor=\"start\" x=\"109.6422\" y=\"-92.3371\" font-family=\"Times,serif\" font-size=\"8.00\" fill=\"#000000\">2 xi </text>\n",
       "</g>\n",
       "<!-- 11572639651412090156&#45;&#45;10087544866635019670 -->\n",
       "<g id=\"edge2\" class=\"edge\">\n",
       "<title>11572639651412090156&#45;&#45;10087544866635019670</title>\n",
       "<path fill=\"none\" stroke=\"#000000\" d=\"M181.3869,-98.7371C184.3578,-84.1526 187.7243,-67.6262 190.4766,-54.1146\"/>\n",
       "<text text-anchor=\"start\" x=\"187\" y=\"-74.6\" font-family=\"Times,serif\" font-size=\"8.00\" fill=\"#ff0000\">clamp_2</text>\n",
       "<text text-anchor=\"start\" x=\"171.4766\" y=\"-56.7146\" font-family=\"Times,serif\" font-size=\"8.00\" fill=\"#000000\">1 out </text>\n",
       "<text text-anchor=\"start\" x=\"166.3869\" y=\"-92.3371\" font-family=\"Times,serif\" font-size=\"8.00\" fill=\"#000000\">3 w </text>\n",
       "</g>\n",
       "<!-- 4835118178388566614 -->\n",
       "<g id=\"node5\" class=\"node\">\n",
       "<title>4835118178388566614</title>\n",
       "<polygon fill=\"#d3d3d3\" stroke=\"#000000\" points=\"604,-54 550,-54 550,0 604,0 604,-54\"/>\n",
       "<text text-anchor=\"middle\" x=\"577\" y=\"-24.8\" font-family=\"Times,serif\" font-size=\"9.00\" fill=\"#000000\">clamp_4</text>\n",
       "</g>\n",
       "<!-- 6954167999120613058 -->\n",
       "<g id=\"node6\" class=\"node\">\n",
       "<title>6954167999120613058</title>\n",
       "<polygon fill=\"none\" stroke=\"#000000\" points=\"499,-171 359,-171 359,-99 499,-99 499,-171\"/>\n",
       "<text text-anchor=\"middle\" x=\"429\" y=\"-137.8\" font-family=\"Times,serif\" font-size=\"9.00\" fill=\"#000000\">𝒩</text>\n",
       "<text text-anchor=\"middle\" x=\"429\" y=\"-127.8\" font-family=\"Times,serif\" font-size=\"9.00\" fill=\"#000000\">gaussianweightedmeanprecision_2</text>\n",
       "</g>\n",
       "<!-- 6954167999120613058&#45;&#45;17417587583571678208 -->\n",
       "<g id=\"edge3\" class=\"edge\">\n",
       "<title>6954167999120613058&#45;&#45;17417587583571678208</title>\n",
       "<path fill=\"none\" stroke=\"#000000\" d=\"M411.2377,-98.7476C409.072,-92.9343 407.2022,-86.8906 406,-81 404.2366,-72.3596 404.0378,-62.7838 404.4924,-54.1246\"/>\n",
       "<text text-anchor=\"start\" x=\"406\" y=\"-74.6\" font-family=\"Times,serif\" font-size=\"8.00\" fill=\"#ff0000\">clamp_3</text>\n",
       "<text text-anchor=\"start\" x=\"385.4924\" y=\"-56.7246\" font-family=\"Times,serif\" font-size=\"8.00\" fill=\"#000000\">1 out </text>\n",
       "<text text-anchor=\"start\" x=\"396.2377\" y=\"-92.3476\" font-family=\"Times,serif\" font-size=\"8.00\" fill=\"#000000\">2 xi </text>\n",
       "</g>\n",
       "<!-- 6954167999120613058&#45;&#45;4835118178388566614 -->\n",
       "<g id=\"edge4\" class=\"edge\">\n",
       "<title>6954167999120613058&#45;&#45;4835118178388566614</title>\n",
       "<path fill=\"none\" stroke=\"#000000\" d=\"M478.6936,-98.7371C502.3747,-81.4563 529.7918,-61.4492 549.6456,-46.9613\"/>\n",
       "<text text-anchor=\"start\" x=\"511\" y=\"-74.6\" font-family=\"Times,serif\" font-size=\"8.00\" fill=\"#ff0000\">clamp_4</text>\n",
       "<text text-anchor=\"start\" x=\"530.6456\" y=\"-49.5613\" font-family=\"Times,serif\" font-size=\"8.00\" fill=\"#000000\">1 out </text>\n",
       "<text text-anchor=\"start\" x=\"463.6936\" y=\"-92.3371\" font-family=\"Times,serif\" font-size=\"8.00\" fill=\"#000000\">3 w </text>\n",
       "</g>\n",
       "<!-- 6789964366417337418 -->\n",
       "<g id=\"node7\" class=\"node\">\n",
       "<title>6789964366417337418</title>\n",
       "<polygon fill=\"none\" stroke=\"#000000\" points=\"337,-288 265,-288 265,-216 337,-216 337,-288\"/>\n",
       "<text text-anchor=\"middle\" x=\"301\" y=\"-254.8\" font-family=\"Times,serif\" font-size=\"9.00\" fill=\"#000000\">GainAddition</text>\n",
       "<text text-anchor=\"middle\" x=\"301\" y=\"-244.8\" font-family=\"Times,serif\" font-size=\"9.00\" fill=\"#000000\">gainaddition_1</text>\n",
       "</g>\n",
       "<!-- 6789964366417337418&#45;&#45;11572639651412090156 -->\n",
       "<g id=\"edge1\" class=\"edge\">\n",
       "<title>6789964366417337418&#45;&#45;11572639651412090156</title>\n",
       "<path fill=\"none\" stroke=\"#000000\" d=\"M264.9466,-218.7855C248.8132,-203.9224 229.7529,-186.3629 213.2597,-171.1683\"/>\n",
       "<text text-anchor=\"start\" x=\"242\" y=\"-191.6\" font-family=\"Times,serif\" font-size=\"8.00\" fill=\"#ff0000\">x_0</text>\n",
       "<text text-anchor=\"start\" x=\"184.2597\" y=\"-174.7683\" font-family=\"Times,serif\" font-size=\"8.00\" fill=\"#000000\">1 out </text>\n",
       "<text text-anchor=\"start\" x=\"203.2597\" y=\"-174.7683\" font-family=\"Times,serif\" font-weight=\"bold\" font-size=\"8.00\" fill=\"#0000ff\">(1)</text>\n",
       "<text text-anchor=\"start\" x=\"251.9466\" y=\"-221.3855\" font-family=\"Times,serif\" font-size=\"8.00\" fill=\"#000000\">2 x </text>\n",
       "</g>\n",
       "<!-- 6789964366417337418&#45;&#45;6954167999120613058 -->\n",
       "<g id=\"edge5\" class=\"edge\">\n",
       "<title>6789964366417337418&#45;&#45;6954167999120613058</title>\n",
       "<path fill=\"none\" stroke=\"#000000\" d=\"M337.3373,-218.7855C353.5977,-203.9224 372.8081,-186.3629 389.4312,-171.1683\"/>\n",
       "<text text-anchor=\"start\" x=\"368\" y=\"-191.6\" font-family=\"Times,serif\" font-size=\"8.00\" fill=\"#ff0000\">u_1</text>\n",
       "<text text-anchor=\"start\" x=\"360.4312\" y=\"-174.7683\" font-family=\"Times,serif\" font-size=\"8.00\" fill=\"#000000\">1 out </text>\n",
       "<text text-anchor=\"start\" x=\"379.4312\" y=\"-174.7683\" font-family=\"Times,serif\" font-weight=\"bold\" font-size=\"8.00\" fill=\"#0000ff\">(2)</text>\n",
       "<text text-anchor=\"start\" x=\"337.3373\" y=\"-221.3855\" font-family=\"Times,serif\" font-size=\"8.00\" fill=\"#000000\">3 y </text>\n",
       "</g>\n",
       "<!-- 21498529571910247002 -->\n",
       "<g id=\"node8\" class=\"node\">\n",
       "<title>21498529571910247002</title>\n",
       "</g>\n",
       "<!-- 21498529571910247002&#45;&#45;6789964366417337418 -->\n",
       "<g id=\"edge7\" class=\"edge\">\n",
       "<title>21498529571910247002&#45;&#45;6789964366417337418</title>\n",
       "<path fill=\"none\" stroke=\"#000000\" d=\"M301,-332.747C301,-319.2495 301,-302.7693 301,-288.2253\"/>\n",
       "<text text-anchor=\"start\" x=\"301\" y=\"-308.6\" font-family=\"Times,serif\" font-size=\"8.00\" fill=\"#ff0000\">x_1</text>\n",
       "<text text-anchor=\"start\" x=\"278\" y=\"-291.8253\" font-family=\"Times,serif\" font-size=\"8.00\" fill=\"#000000\">1 z </text>\n",
       "<text text-anchor=\"start\" x=\"291\" y=\"-291.8253\" font-family=\"Times,serif\" font-weight=\"bold\" font-size=\"8.00\" fill=\"#0000ff\">(3)</text>\n",
       "</g>\n",
       "</g>\n",
       "</svg>\n"
      ]
     },
     "metadata": {},
     "output_type": "display_data"
    },
    {
     "name": "stdout",
     "output_type": "stream",
     "text": [
      "1.\tSPGaussianWeightedMeanPrecisionOutNPP on Interface 1 (out) of GaussianWeightedMeanPrecision gaussianweightedmeanprecision_1\n",
      "2.\tSPGaussianWeightedMeanPrecisionOutNPP on Interface 1 (out) of GaussianWeightedMeanPrecision gaussianweightedmeanprecision_2\n",
      "3.\tSPGainAdditionOutNGG on Interface 1 (z) of GainAddition gainaddition_1\n",
      "\n"
     ]
    }
   ],
   "source": [
    "pfz = PosteriorFactorization(g2) # Explicitly create a new posterior factorization\n",
    "composite_algorithm = messagePassingAlgorithm(x_1)\n",
    "composite_schedule = composite_algorithm.posterior_factorization.posterior_factors[Symbol(\"\")].schedule\n",
    "draw(g2, schedule=composite_schedule)\n",
    "\n",
    "println(composite_schedule)"
   ]
  },
  {
   "cell_type": "markdown",
   "metadata": {},
   "source": [
    "## Executing the custom rule\n",
    "We can directly compile the algorithm to Julia code."
   ]
  },
  {
   "cell_type": "code",
   "execution_count": 7,
   "metadata": {},
   "outputs": [
    {
     "name": "stdout",
     "output_type": "stream",
     "text": [
      "begin\n",
      "\n",
      "function step!(data::Dict, marginals::Dict=Dict(), messages::Vector{Message}=Array{Message}(undef, 3))\n",
      "\n",
      "messages[1] = ruleSPGaussianWeightedMeanPrecisionOutNPP(nothing, Message(Univariate, PointMass, m=1.0), Message(Univariate, PointMass, m=1.0))\n",
      "messages[2] = ruleSPGaussianWeightedMeanPrecisionOutNPP(nothing, Message(Multivariate, PointMass, m=[1.0, 1.0]), Message(MatrixVariate, PointMass, m=Diagonal(Bool[1, 1])))\n",
      "messages[3] = ruleSPGainAdditionOutNGG(nothing, messages[1], messages[2])\n",
      "\n",
      "marginals[:x_1] = messages[3].dist\n",
      "\n",
      "return marginals\n",
      "\n",
      "end\n",
      "\n",
      "end # block\n"
     ]
    }
   ],
   "source": [
    "source_code = algorithmSourceCode(composite_algorithm)\n",
    "eval(Meta.parse(source_code)) # Load algorithm\n",
    "\n",
    "println(source_code) # Inspect the algorithm"
   ]
  },
  {
   "cell_type": "markdown",
   "metadata": {},
   "source": [
    "The above algorithm makes a call to our custom update rule `ruleSPGainAdditionOutNGG`, but we have not yet implemented this rule, which we will do below. We define two functions, the first of which implements a shortcut rule for the specific case when both incoming messages are weighted-mean-precision parameterized. By using the matrix inversion lemma, this update will lead to significant speedup in the case high-dimensional messages. This demo however just concerns the 2-D case, but generalizations can be readily implemented."
   ]
  },
  {
   "cell_type": "code",
   "execution_count": 8,
   "metadata": {},
   "outputs": [
    {
     "data": {
      "text/plain": [
       "ruleSPGainAdditionOutNGG (generic function with 2 methods)"
      ]
     },
     "execution_count": 8,
     "metadata": {},
     "output_type": "execute_result"
    }
   ],
   "source": [
    "# Specific shortcut update with high-performance implementation\n",
    "function ruleSPGainAdditionOutNGG(\n",
    "    msg_out::Nothing,\n",
    "    msg_x::Message{GaussianWeightedMeanPrecision, Univariate},\n",
    "    msg_y::Message{GaussianWeightedMeanPrecision, Multivariate})\n",
    "\n",
    "    b = [1.0, 0.5]'\n",
    "    \n",
    "    xi_x = msg_x.dist.params[:xi]\n",
    "    W_x = msg_x.dist.params[:w]\n",
    "    xi_y = msg_y.dist.params[:xi]\n",
    "    W_y = msg_y.dist.params[:w]\n",
    "    \n",
    "    H = cholinv(W_y + b'*W_x*b)\n",
    "    \n",
    "    Message(Univariate, \n",
    "            GaussianWeightedMeanPrecision, \n",
    "            xi = first(xi_x + W_x*b*H*(xi_y - b'*xi_x)), \n",
    "            w  = first(W_x - W_x*b*H*b'*W_x))\n",
    "end\n",
    "\n",
    "# Catch-all backup update with lesser efficiency\n",
    "function ruleSPGainAdditionOutNGG(\n",
    "    msg_out::Nothing,\n",
    "    msg_x::Message{F1, Univariate},\n",
    "    msg_y::Message{F2, Multivariate}) where {F1<:Gaussian, F2<:Gaussian}\n",
    "\n",
    "    b = [1.0, 0.5]'\n",
    "\n",
    "    d_x = convert(ProbabilityDistribution{Univariate, GaussianMeanVariance}, msg_x.dist)\n",
    "    d_y = convert(ProbabilityDistribution{Multivariate, GaussianMeanVariance}, msg_y.dist)\n",
    "    \n",
    "    Message(Univariate, \n",
    "            GaussianMeanVariance, \n",
    "            m = first(d_x.params[:m] + b*d_y.params[:m]), \n",
    "            v = first(d_x.params[:v] + b*d_y.params[:v]*b'))\n",
    "end"
   ]
  },
  {
   "cell_type": "code",
   "execution_count": 9,
   "metadata": {},
   "outputs": [
    {
     "data": {
      "text/plain": [
       "Dict{Any,Any} with 1 entry:\n",
       "  :x_1 => 𝒩(xi=1.11, w=0.44)…"
      ]
     },
     "execution_count": 9,
     "metadata": {},
     "output_type": "execute_result"
    }
   ],
   "source": [
    "step!(Dict()) # Execute the algorithm"
   ]
  },
  {
   "cell_type": "code",
   "execution_count": null,
   "metadata": {},
   "outputs": [],
   "source": []
  }
 ],
 "metadata": {
  "@webio": {
   "lastCommId": null,
   "lastKernelId": null
  },
  "kernelspec": {
   "display_name": "Julia 1.3.0",
   "language": "julia",
   "name": "julia-1.3"
  },
  "language_info": {
   "file_extension": ".jl",
   "mimetype": "application/julia",
   "name": "julia",
   "version": "1.3.0"
  }
 },
 "nbformat": 4,
 "nbformat_minor": 4
}
