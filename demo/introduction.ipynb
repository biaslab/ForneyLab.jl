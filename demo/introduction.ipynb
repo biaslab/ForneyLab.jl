{
 "cells": [
  {
   "cell_type": "markdown",
   "metadata": {},
   "source": [
    "# Introduction to ForneyLab\n",
    "\n",
    "ForneyLab is a toolbox for deriving solutions to probabilistic inference problems by message passing on Forney-style factor graphs. A Forney-style factor graph (FFG) is a graphical representation of a factorized probabilistic model. Message passing solutions to inference tasks can be automatically derived from a probabilistic model specification. ForneyLab yields message passing algorithms (MPA) as Julia code. In other words, ForneyLab is a Julia program that automatically builds inference programs that are specified as Julia programs.\n",
    "\n",
    "These demos assume that the user is familiar with the FFG formalism. We recommend the following introductions: \n",
    "\n",
    "1. H.-A. Loeliger, J. Dauwels, J. Hu, S. Korl, Li Ping, and F. Kschischang,\n",
    "[The factor graph approach to model-based signal processing](https://people.ee.ethz.ch/~papers/docu/aloe-jdau-juhu-skor-2007-1.pdf), Proceedings of the IEEE, vol. 95, no. 6, pp. 1295-1322, June 2007. \n",
    "2. Korl, Sascha, [A factor graph approach to signal modelling, system identification and filtering](https://www.research-collection.ethz.ch/handle/20.500.11850/82737), Series in signal and information processing\n",
    "Doctoral Thesis, 2005\n",
    "\n",
    "We designed ForneyLab to be practical, while retaining maximal flexibility. The inherent modularity of the FFG framework allowed us to make ForneyLab extensible at all levels (nodes, update rules, algorithms, inference engines). Although we had performance in mind while developing ForneyLab, optimally efficient execution of the resulting inference programs (specified in Julia as message passing sequence) may still require custom work.  \n",
    "\n",
    "The ForneyLab approach to solving inference problems consists of three phases:\n",
    "\n",
    "1. **Model specification**. ForneyLab provides a simple meta-language to specifiy models.\n",
    "2. **Message Passing Agorithm (MPA) Generation**. This task is automatically performed by ForneyLab.\n",
    "3. **MPA Execution**. This is simply evaluating a Julia program.\n",
    "\n",
    "Each of the demos will step through these phases in turn, showcasing the most important ForneyLab functionalities. Although the demos each stand on their own, a recommended order would be\n",
    "\n",
    "1. `introduction`\n",
    "2. `state_estimation_forward_only`\n",
    "3. `state_estimation_forward_backward`\n",
    "4. `bayes_rule_2d`\n",
    "5. `kalman_smoother_2d`\n",
    "6. `variational_estimation_iid_gaussian`\n",
    "7. `variational_estimation_gaussian_mixture`\n",
    "8. `expectation_propagation`\n",
    "9. `expectation_maximization`\n",
    "10. `composite_nodes`\n",
    "11. `structured_variational_estimation`\n",
    "12. `hidden_markov_model_estimation`\n",
    "\n",
    "# Factor Graphs and Variables\n",
    "\n",
    "A central concept in ForneyLab is the (random) `Variable` type. After including ForneyLab and indicating that we start a new `FactorGraph`, we can declare a `Variable` by calling its constructor function: "
   ]
  },
  {
   "cell_type": "code",
   "execution_count": 1,
   "metadata": {},
   "outputs": [
    {
     "data": {
      "text/plain": [
       "Dict{Symbol,Variable} with 1 entry:\n",
       "  :x => Variable(:x, Edges:…"
      ]
     },
     "execution_count": 1,
     "metadata": {},
     "output_type": "execute_result"
    }
   ],
   "source": [
    "using ForneyLab\n",
    "\n",
    "# Declare a new graph\n",
    "g = FactorGraph()\n",
    "\n",
    "# Declare a variable\n",
    "x = Variable(id=:x)\n",
    "\n",
    "g.variables"
   ]
  },
  {
   "cell_type": "markdown",
   "metadata": {},
   "source": [
    "The call to `FactorGraph()` creates a factor graph type and registers the graph as the currently active graph. Note that the variable has been associated with an edge in the currently active graph. \n",
    "\n",
    "ForneyLab comes equipped with the `@RV` macro to define random variables. For instance, defining a new variable `y` with identifier `:y` and associating the variable to the current graph can also be accomplished by executing `@RV y`:"
   ]
  },
  {
   "cell_type": "code",
   "execution_count": 2,
   "metadata": {},
   "outputs": [
    {
     "data": {
      "text/plain": [
       "Dict{Symbol,Variable} with 2 entries:\n",
       "  :y => Variable(:y, Edges:…\n",
       "  :x => Variable(:x, Edges:…"
      ]
     },
     "execution_count": 2,
     "metadata": {},
     "output_type": "execute_result"
    }
   ],
   "source": [
    "@RV y\n",
    "\n",
    "g.variables"
   ]
  },
  {
   "cell_type": "markdown",
   "metadata": {},
   "source": [
    "We can assign a probability distribution to a random variable by the `~` operator:"
   ]
  },
  {
   "cell_type": "code",
   "execution_count": 3,
   "metadata": {
    "scrolled": true
   },
   "outputs": [
    {
     "data": {
      "text/plain": [
       "Dict{Symbol,Variable} with 5 entries:\n",
       "  :clamp_2 => Variable(:clamp_2, Edges:…\n",
       "  :y       => Variable(:y, Edges:…\n",
       "  :clamp_1 => Variable(:clamp_1, Edges:…\n",
       "  :z       => Variable(:z, Edges:…\n",
       "  :x       => Variable(:x, Edges:…"
      ]
     },
     "execution_count": 3,
     "metadata": {},
     "output_type": "execute_result"
    }
   ],
   "source": [
    "@RV z ~ GaussianMeanVariance(0.0, 1.0)\n",
    "g.variables"
   ]
  },
  {
   "cell_type": "markdown",
   "metadata": {},
   "source": [
    "Note that the graph now also includes two variables with id `:clamp_1` and `:clamp_2`. These two variables correspond to the mean and variance parameters for the Gaussian and are clamped to values `0.0` and `1.0` respectively.\n",
    "\n",
    "If you have [graphviz](https://www.graphviz.org/) installed, then you can draw the factor graph. (Edges (variables) that are not constrained by any factor are not drawn):"
   ]
  },
  {
   "cell_type": "code",
   "execution_count": 4,
   "metadata": {},
   "outputs": [
    {
     "data": {
      "text/html": [
       "<?xml version=\"1.0\" encoding=\"UTF-8\" standalone=\"no\"?>\n",
       "<!DOCTYPE svg PUBLIC \"-//W3C//DTD SVG 1.1//EN\"\n",
       " \"http://www.w3.org/Graphics/SVG/1.1/DTD/svg11.dtd\">\n",
       "<!-- Generated by graphviz version 2.40.1 (20161225.0304)\n",
       " -->\n",
       "<!-- Title: G Pages: 1 -->\n",
       "<svg width=\"231pt\" height=\"278pt\"\n",
       " viewBox=\"0.00 0.00 231.00 278.00\" xmlns=\"http://www.w3.org/2000/svg\" xmlns:xlink=\"http://www.w3.org/1999/xlink\">\n",
       "<g id=\"graph0\" class=\"graph\" transform=\"scale(1 1) rotate(0) translate(4 274)\">\n",
       "<title>G</title>\n",
       "<polygon fill=\"#ffffff\" stroke=\"transparent\" points=\"-4,4 -4,-274 227,-274 227,4 -4,4\"/>\n",
       "<!-- 3581852491463405850 -->\n",
       "<g id=\"node1\" class=\"node\">\n",
       "<title>3581852491463405850</title>\n",
       "<polygon fill=\"#d3d3d3\" stroke=\"#000000\" points=\"54,-54 0,-54 0,0 54,0 54,-54\"/>\n",
       "<text text-anchor=\"middle\" x=\"27\" y=\"-24.8\" font-family=\"Times,serif\" font-size=\"9.00\" fill=\"#000000\">clamp_2</text>\n",
       "</g>\n",
       "<!-- 12282723730538924686 -->\n",
       "<g id=\"node2\" class=\"node\">\n",
       "<title>12282723730538924686</title>\n",
       "<polygon fill=\"#d3d3d3\" stroke=\"#000000\" points=\"223,-54 169,-54 169,0 223,0 223,-54\"/>\n",
       "<text text-anchor=\"middle\" x=\"196\" y=\"-24.8\" font-family=\"Times,serif\" font-size=\"9.00\" fill=\"#000000\">clamp_1</text>\n",
       "</g>\n",
       "<!-- 384746997514947260 -->\n",
       "<g id=\"node3\" class=\"node\">\n",
       "<title>384746997514947260</title>\n",
       "<polygon fill=\"none\" stroke=\"#000000\" points=\"163,-171 59,-171 59,-99 163,-99 163,-171\"/>\n",
       "<text text-anchor=\"middle\" x=\"111\" y=\"-137.8\" font-family=\"Times,serif\" font-size=\"9.00\" fill=\"#000000\">𝒩</text>\n",
       "<text text-anchor=\"middle\" x=\"111\" y=\"-127.8\" font-family=\"Times,serif\" font-size=\"9.00\" fill=\"#000000\">gaussianmeanvariance_1</text>\n",
       "</g>\n",
       "<!-- 384746997514947260&#45;&#45;3581852491463405850 -->\n",
       "<g id=\"edge2\" class=\"edge\">\n",
       "<title>384746997514947260&#45;&#45;3581852491463405850</title>\n",
       "<path fill=\"none\" stroke=\"#000000\" d=\"M58.6481,-113.5725C45.2995,-105.4421 32.592,-94.7316 25,-81 20.5515,-72.9541 19.802,-63.1548 20.5713,-54.1238\"/>\n",
       "<text text-anchor=\"start\" x=\"25\" y=\"-74.6\" font-family=\"Times,serif\" font-size=\"8.00\" fill=\"#ff0000\">clamp_2</text>\n",
       "<text text-anchor=\"start\" x=\"1.5713\" y=\"-56.7238\" font-family=\"Times,serif\" font-size=\"8.00\" fill=\"#000000\">1 out </text>\n",
       "<text text-anchor=\"start\" x=\"45.6481\" y=\"-116.1725\" font-family=\"Times,serif\" font-size=\"8.00\" fill=\"#000000\">3 v </text>\n",
       "</g>\n",
       "<!-- 384746997514947260&#45;&#45;12282723730538924686 -->\n",
       "<g id=\"edge3\" class=\"edge\">\n",
       "<title>384746997514947260&#45;&#45;12282723730538924686</title>\n",
       "<path fill=\"none\" stroke=\"#000000\" d=\"M139.5402,-98.7371C151.0188,-84.1526 164.0257,-67.6262 174.6598,-54.1146\"/>\n",
       "<text text-anchor=\"start\" x=\"158\" y=\"-74.6\" font-family=\"Times,serif\" font-size=\"8.00\" fill=\"#ff0000\">clamp_1</text>\n",
       "<text text-anchor=\"start\" x=\"155.6598\" y=\"-56.7146\" font-family=\"Times,serif\" font-size=\"8.00\" fill=\"#000000\">1 out </text>\n",
       "<text text-anchor=\"start\" x=\"124.5402\" y=\"-92.3371\" font-family=\"Times,serif\" font-size=\"8.00\" fill=\"#000000\">2 m </text>\n",
       "</g>\n",
       "<!-- 14717580311480596692 -->\n",
       "<g id=\"node4\" class=\"node\">\n",
       "<title>14717580311480596692</title>\n",
       "</g>\n",
       "<!-- 14717580311480596692&#45;&#45;384746997514947260 -->\n",
       "<g id=\"edge1\" class=\"edge\">\n",
       "<title>14717580311480596692&#45;&#45;384746997514947260</title>\n",
       "<path fill=\"none\" stroke=\"#000000\" d=\"M111,-215.747C111,-202.2495 111,-185.7693 111,-171.2253\"/>\n",
       "<text text-anchor=\"start\" x=\"111\" y=\"-191.6\" font-family=\"Times,serif\" font-size=\"8.00\" fill=\"#ff0000\">z</text>\n",
       "<text text-anchor=\"start\" x=\"92\" y=\"-173.8253\" font-family=\"Times,serif\" font-size=\"8.00\" fill=\"#000000\">1 out </text>\n",
       "</g>\n",
       "</g>\n",
       "</svg>\n"
      ]
     },
     "metadata": {},
     "output_type": "display_data"
    }
   ],
   "source": [
    "ForneyLab.draw(g) # draw the graph"
   ]
  },
  {
   "cell_type": "markdown",
   "metadata": {},
   "source": [
    "In case you don't like the automatically generated id's `:clamp_1` and `:clamp_2`, you could have declared the parameters of the Gaussian distribution through the `@RV` macro and associated a `Clamp` distribution with these variables:"
   ]
  },
  {
   "cell_type": "code",
   "execution_count": 5,
   "metadata": {},
   "outputs": [
    {
     "data": {
      "text/plain": [
       "Dict{Symbol,Variable} with 3 entries:\n",
       "  :m => Variable(:m, Edges:…\n",
       "  :v => Variable(:v, Edges:…\n",
       "  :z => Variable(:z, Edges:…"
      ]
     },
     "execution_count": 5,
     "metadata": {},
     "output_type": "execute_result"
    }
   ],
   "source": [
    "g2 = FactorGraph()\n",
    "@RV m ~ Clamp(0.0)\n",
    "@RV v ~ Clamp(1.0)\n",
    "@RV z ~ GaussianMeanVariance(m, v)\n",
    "g2.variables"
   ]
  },
  {
   "cell_type": "code",
   "execution_count": 6,
   "metadata": {},
   "outputs": [
    {
     "data": {
      "text/html": [
       "<?xml version=\"1.0\" encoding=\"UTF-8\" standalone=\"no\"?>\n",
       "<!DOCTYPE svg PUBLIC \"-//W3C//DTD SVG 1.1//EN\"\n",
       " \"http://www.w3.org/Graphics/SVG/1.1/DTD/svg11.dtd\">\n",
       "<!-- Generated by graphviz version 2.40.1 (20161225.0304)\n",
       " -->\n",
       "<!-- Title: G Pages: 1 -->\n",
       "<svg width=\"231pt\" height=\"278pt\"\n",
       " viewBox=\"0.00 0.00 231.00 278.00\" xmlns=\"http://www.w3.org/2000/svg\" xmlns:xlink=\"http://www.w3.org/1999/xlink\">\n",
       "<g id=\"graph0\" class=\"graph\" transform=\"scale(1 1) rotate(0) translate(4 274)\">\n",
       "<title>G</title>\n",
       "<polygon fill=\"#ffffff\" stroke=\"transparent\" points=\"-4,4 -4,-274 227,-274 227,4 -4,4\"/>\n",
       "<!-- 16651319783289573152 -->\n",
       "<g id=\"node1\" class=\"node\">\n",
       "<title>16651319783289573152</title>\n",
       "<polygon fill=\"none\" stroke=\"#000000\" points=\"163,-171 59,-171 59,-99 163,-99 163,-171\"/>\n",
       "<text text-anchor=\"middle\" x=\"111\" y=\"-137.8\" font-family=\"Times,serif\" font-size=\"9.00\" fill=\"#000000\">𝒩</text>\n",
       "<text text-anchor=\"middle\" x=\"111\" y=\"-127.8\" font-family=\"Times,serif\" font-size=\"9.00\" fill=\"#000000\">gaussianmeanvariance_1</text>\n",
       "</g>\n",
       "<!-- 9843456667702762658 -->\n",
       "<g id=\"node2\" class=\"node\">\n",
       "<title>9843456667702762658</title>\n",
       "<polygon fill=\"#d3d3d3\" stroke=\"#000000\" points=\"54,-54 0,-54 0,0 54,0 54,-54\"/>\n",
       "<text text-anchor=\"middle\" x=\"27\" y=\"-24.8\" font-family=\"Times,serif\" font-size=\"9.00\" fill=\"#000000\">clamp_2</text>\n",
       "</g>\n",
       "<!-- 16651319783289573152&#45;&#45;9843456667702762658 -->\n",
       "<g id=\"edge3\" class=\"edge\">\n",
       "<title>16651319783289573152&#45;&#45;9843456667702762658</title>\n",
       "<path fill=\"none\" stroke=\"#000000\" d=\"M64.4843,-98.9076C58.8321,-93.299 53.4822,-87.2709 49,-81 43.2312,-72.929 38.6551,-63.1239 35.204,-54.0952\"/>\n",
       "<text text-anchor=\"start\" x=\"49\" y=\"-74.6\" font-family=\"Times,serif\" font-size=\"8.00\" fill=\"#ff0000\">v</text>\n",
       "<text text-anchor=\"start\" x=\"16.204\" y=\"-56.6952\" font-family=\"Times,serif\" font-size=\"8.00\" fill=\"#000000\">1 out </text>\n",
       "<text text-anchor=\"start\" x=\"51.4843\" y=\"-92.5076\" font-family=\"Times,serif\" font-size=\"8.00\" fill=\"#000000\">3 v </text>\n",
       "</g>\n",
       "<!-- 8359639846002699267 -->\n",
       "<g id=\"node3\" class=\"node\">\n",
       "<title>8359639846002699267</title>\n",
       "<polygon fill=\"#d3d3d3\" stroke=\"#000000\" points=\"223,-54 169,-54 169,0 223,0 223,-54\"/>\n",
       "<text text-anchor=\"middle\" x=\"196\" y=\"-24.8\" font-family=\"Times,serif\" font-size=\"9.00\" fill=\"#000000\">clamp_1</text>\n",
       "</g>\n",
       "<!-- 16651319783289573152&#45;&#45;8359639846002699267 -->\n",
       "<g id=\"edge2\" class=\"edge\">\n",
       "<title>16651319783289573152&#45;&#45;8359639846002699267</title>\n",
       "<path fill=\"none\" stroke=\"#000000\" d=\"M139.5402,-98.7371C151.0188,-84.1526 164.0257,-67.6262 174.6598,-54.1146\"/>\n",
       "<text text-anchor=\"start\" x=\"158\" y=\"-74.6\" font-family=\"Times,serif\" font-size=\"8.00\" fill=\"#ff0000\">m</text>\n",
       "<text text-anchor=\"start\" x=\"155.6598\" y=\"-56.7146\" font-family=\"Times,serif\" font-size=\"8.00\" fill=\"#000000\">1 out </text>\n",
       "<text text-anchor=\"start\" x=\"124.5402\" y=\"-92.3371\" font-family=\"Times,serif\" font-size=\"8.00\" fill=\"#000000\">2 m </text>\n",
       "</g>\n",
       "<!-- 22761823978763923592 -->\n",
       "<g id=\"node4\" class=\"node\">\n",
       "<title>22761823978763923592</title>\n",
       "</g>\n",
       "<!-- 22761823978763923592&#45;&#45;16651319783289573152 -->\n",
       "<g id=\"edge1\" class=\"edge\">\n",
       "<title>22761823978763923592&#45;&#45;16651319783289573152</title>\n",
       "<path fill=\"none\" stroke=\"#000000\" d=\"M111,-215.747C111,-202.2495 111,-185.7693 111,-171.2253\"/>\n",
       "<text text-anchor=\"start\" x=\"111\" y=\"-191.6\" font-family=\"Times,serif\" font-size=\"8.00\" fill=\"#ff0000\">z</text>\n",
       "<text text-anchor=\"start\" x=\"92\" y=\"-173.8253\" font-family=\"Times,serif\" font-size=\"8.00\" fill=\"#000000\">1 out </text>\n",
       "</g>\n",
       "</g>\n",
       "</svg>\n"
      ]
     },
     "metadata": {},
     "output_type": "display_data"
    }
   ],
   "source": [
    "ForneyLab.draw(g2)"
   ]
  },
  {
   "cell_type": "markdown",
   "metadata": {},
   "source": [
    "The graph stores the identifier of each variable. This is useful because now we can retrieve a variable from a graph by its identifier, .e.g.,"
   ]
  },
  {
   "cell_type": "code",
   "execution_count": 7,
   "metadata": {},
   "outputs": [
    {
     "data": {
      "text/plain": [
       "Variable(:m, Edges:\n",
       "Edge belonging to variable m: ( clamp_1.i[out] )----( gaussianmeanvariance_1.i[m] ).\n",
       ")"
      ]
     },
     "execution_count": 7,
     "metadata": {},
     "output_type": "execute_result"
    }
   ],
   "source": [
    "g2.variables[:m]"
   ]
  },
  {
   "cell_type": "markdown",
   "metadata": {},
   "source": [
    "Let's build another simple factor graph for \n",
    "$$\\begin{align*}\n",
    "p(x,y,z) &= p(z|x,y)\\,p(x)\\,p(y) \\\\\n",
    "  &= \\delta(z-x-y)\\,\\mathcal{N}(x\\,|\\,0.0,1.0)\\,\\mathcal{N}(y\\,|\\,2.0,3.0)\n",
    "\\end{align*}$$"
   ]
  },
  {
   "cell_type": "code",
   "execution_count": 8,
   "metadata": {},
   "outputs": [
    {
     "data": {
      "text/html": [
       "<?xml version=\"1.0\" encoding=\"UTF-8\" standalone=\"no\"?>\n",
       "<!DOCTYPE svg PUBLIC \"-//W3C//DTD SVG 1.1//EN\"\n",
       " \"http://www.w3.org/Graphics/SVG/1.1/DTD/svg11.dtd\">\n",
       "<!-- Generated by graphviz version 2.40.1 (20161225.0304)\n",
       " -->\n",
       "<!-- Title: G Pages: 1 -->\n",
       "<svg width=\"594pt\" height=\"395pt\"\n",
       " viewBox=\"0.00 0.00 594.00 395.00\" xmlns=\"http://www.w3.org/2000/svg\" xmlns:xlink=\"http://www.w3.org/1999/xlink\">\n",
       "<g id=\"graph0\" class=\"graph\" transform=\"scale(1 1) rotate(0) translate(4 391)\">\n",
       "<title>G</title>\n",
       "<polygon fill=\"#ffffff\" stroke=\"transparent\" points=\"-4,4 -4,-391 590,-391 590,4 -4,4\"/>\n",
       "<!-- 7899978128116307829 -->\n",
       "<g id=\"node1\" class=\"node\">\n",
       "<title>7899978128116307829</title>\n",
       "<polygon fill=\"none\" stroke=\"#000000\" points=\"235,-171 131,-171 131,-99 235,-99 235,-171\"/>\n",
       "<text text-anchor=\"middle\" x=\"183\" y=\"-137.8\" font-family=\"Times,serif\" font-size=\"9.00\" fill=\"#000000\">𝒩</text>\n",
       "<text text-anchor=\"middle\" x=\"183\" y=\"-127.8\" font-family=\"Times,serif\" font-size=\"9.00\" fill=\"#000000\">gaussianmeanvariance_1</text>\n",
       "</g>\n",
       "<!-- 16657279665752858809 -->\n",
       "<g id=\"node5\" class=\"node\">\n",
       "<title>16657279665752858809</title>\n",
       "<polygon fill=\"#d3d3d3\" stroke=\"#000000\" points=\"54,-54 0,-54 0,0 54,0 54,-54\"/>\n",
       "<text text-anchor=\"middle\" x=\"27\" y=\"-24.8\" font-family=\"Times,serif\" font-size=\"9.00\" fill=\"#000000\">clamp_2</text>\n",
       "</g>\n",
       "<!-- 7899978128116307829&#45;&#45;16657279665752858809 -->\n",
       "<g id=\"edge1\" class=\"edge\">\n",
       "<title>7899978128116307829&#45;&#45;16657279665752858809</title>\n",
       "<path fill=\"none\" stroke=\"#000000\" d=\"M130.6203,-98.7371C104.951,-80.966 75.1171,-60.3118 54.0715,-45.7418\"/>\n",
       "<text text-anchor=\"start\" x=\"105\" y=\"-74.6\" font-family=\"Times,serif\" font-size=\"8.00\" fill=\"#ff0000\">clamp_2</text>\n",
       "<text text-anchor=\"start\" x=\"54.0715\" y=\"-48.3418\" font-family=\"Times,serif\" font-size=\"8.00\" fill=\"#000000\">1 out </text>\n",
       "<text text-anchor=\"start\" x=\"117.6203\" y=\"-101.3371\" font-family=\"Times,serif\" font-size=\"8.00\" fill=\"#000000\">3 v </text>\n",
       "</g>\n",
       "<!-- 4245439007675870245 -->\n",
       "<g id=\"node6\" class=\"node\">\n",
       "<title>4245439007675870245</title>\n",
       "<polygon fill=\"#d3d3d3\" stroke=\"#000000\" points=\"223,-54 169,-54 169,0 223,0 223,-54\"/>\n",
       "<text text-anchor=\"middle\" x=\"196\" y=\"-24.8\" font-family=\"Times,serif\" font-size=\"9.00\" fill=\"#000000\">clamp_1</text>\n",
       "</g>\n",
       "<!-- 7899978128116307829&#45;&#45;4245439007675870245 -->\n",
       "<g id=\"edge3\" class=\"edge\">\n",
       "<title>7899978128116307829&#45;&#45;4245439007675870245</title>\n",
       "<path fill=\"none\" stroke=\"#000000\" d=\"M187.365,-98.7371C189.1205,-84.1526 191.1098,-67.6262 192.7362,-54.1146\"/>\n",
       "<text text-anchor=\"start\" x=\"191\" y=\"-74.6\" font-family=\"Times,serif\" font-size=\"8.00\" fill=\"#ff0000\">clamp_1</text>\n",
       "<text text-anchor=\"start\" x=\"173.7362\" y=\"-56.7146\" font-family=\"Times,serif\" font-size=\"8.00\" fill=\"#000000\">1 out </text>\n",
       "<text text-anchor=\"start\" x=\"172.365\" y=\"-92.3371\" font-family=\"Times,serif\" font-size=\"8.00\" fill=\"#000000\">2 m </text>\n",
       "</g>\n",
       "<!-- 7766556413098500156 -->\n",
       "<g id=\"node2\" class=\"node\">\n",
       "<title>7766556413098500156</title>\n",
       "<polygon fill=\"#d3d3d3\" stroke=\"#000000\" points=\"417,-54 363,-54 363,0 417,0 417,-54\"/>\n",
       "<text text-anchor=\"middle\" x=\"390\" y=\"-24.8\" font-family=\"Times,serif\" font-size=\"9.00\" fill=\"#000000\">clamp_4</text>\n",
       "</g>\n",
       "<!-- 16313529505631114815 -->\n",
       "<g id=\"node3\" class=\"node\">\n",
       "<title>16313529505631114815</title>\n",
       "<polygon fill=\"#d3d3d3\" stroke=\"#000000\" points=\"586,-54 532,-54 532,0 586,0 586,-54\"/>\n",
       "<text text-anchor=\"middle\" x=\"559\" y=\"-24.8\" font-family=\"Times,serif\" font-size=\"9.00\" fill=\"#000000\">clamp_3</text>\n",
       "</g>\n",
       "<!-- 4919835933602349011 -->\n",
       "<g id=\"node4\" class=\"node\">\n",
       "<title>4919835933602349011</title>\n",
       "<polygon fill=\"none\" stroke=\"#000000\" points=\"328,-288 256,-288 256,-216 328,-216 328,-288\"/>\n",
       "<text text-anchor=\"middle\" x=\"292\" y=\"-254.8\" font-family=\"Times,serif\" font-size=\"9.00\" fill=\"#000000\">+</text>\n",
       "<text text-anchor=\"middle\" x=\"292\" y=\"-244.8\" font-family=\"Times,serif\" font-size=\"9.00\" fill=\"#000000\">addition_1</text>\n",
       "</g>\n",
       "<!-- 4919835933602349011&#45;&#45;7899978128116307829 -->\n",
       "<g id=\"edge6\" class=\"edge\">\n",
       "<title>4919835933602349011&#45;&#45;7899978128116307829</title>\n",
       "<path fill=\"none\" stroke=\"#000000\" d=\"M255.8992,-218.2632C249.1606,-211.6662 242.2702,-204.7106 236,-198 228.0957,-189.5407 219.8874,-180.1274 212.3587,-171.2107\"/>\n",
       "<text text-anchor=\"start\" x=\"236\" y=\"-191.6\" font-family=\"Times,serif\" font-size=\"8.00\" fill=\"#ff0000\">x</text>\n",
       "<text text-anchor=\"start\" x=\"193.3587\" y=\"-173.8107\" font-family=\"Times,serif\" font-size=\"8.00\" fill=\"#000000\">1 out </text>\n",
       "<text text-anchor=\"start\" x=\"236.8992\" y=\"-220.8632\" font-family=\"Times,serif\" font-size=\"8.00\" fill=\"#000000\">2 in1 </text>\n",
       "</g>\n",
       "<!-- 11102611066140659541 -->\n",
       "<g id=\"node7\" class=\"node\">\n",
       "<title>11102611066140659541</title>\n",
       "<polygon fill=\"none\" stroke=\"#000000\" points=\"454,-171 350,-171 350,-99 454,-99 454,-171\"/>\n",
       "<text text-anchor=\"middle\" x=\"402\" y=\"-137.8\" font-family=\"Times,serif\" font-size=\"9.00\" fill=\"#000000\">𝒩</text>\n",
       "<text text-anchor=\"middle\" x=\"402\" y=\"-127.8\" font-family=\"Times,serif\" font-size=\"9.00\" fill=\"#000000\">gaussianmeanvariance_2</text>\n",
       "</g>\n",
       "<!-- 4919835933602349011&#45;&#45;11102611066140659541 -->\n",
       "<g id=\"edge5\" class=\"edge\">\n",
       "<title>4919835933602349011&#45;&#45;11102611066140659541</title>\n",
       "<path fill=\"none\" stroke=\"#000000\" d=\"M325.9012,-215.9415C339.2839,-201.7071 354.6311,-185.3833 368.0214,-171.1409\"/>\n",
       "<text text-anchor=\"start\" x=\"350\" y=\"-191.6\" font-family=\"Times,serif\" font-size=\"8.00\" fill=\"#ff0000\">y</text>\n",
       "<text text-anchor=\"start\" x=\"349.0214\" y=\"-173.7409\" font-family=\"Times,serif\" font-size=\"8.00\" fill=\"#000000\">1 out </text>\n",
       "<text text-anchor=\"start\" x=\"306.9012\" y=\"-209.5415\" font-family=\"Times,serif\" font-size=\"8.00\" fill=\"#000000\">3 in2 </text>\n",
       "</g>\n",
       "<!-- 11102611066140659541&#45;&#45;7766556413098500156 -->\n",
       "<g id=\"edge4\" class=\"edge\">\n",
       "<title>11102611066140659541&#45;&#45;7766556413098500156</title>\n",
       "<path fill=\"none\" stroke=\"#000000\" d=\"M391.3067,-98.9377C389.9334,-92.9939 388.7473,-86.8604 388,-81 387.494,-77.0321 387.9112,-75.999 388,-72 388.1285,-66.2145 388.3498,-60.0136 388.5996,-54.121\"/>\n",
       "<text text-anchor=\"start\" x=\"388\" y=\"-74.6\" font-family=\"Times,serif\" font-size=\"8.00\" fill=\"#ff0000\">clamp_4</text>\n",
       "<text text-anchor=\"start\" x=\"369.5996\" y=\"-56.721\" font-family=\"Times,serif\" font-size=\"8.00\" fill=\"#000000\">1 out </text>\n",
       "<text text-anchor=\"start\" x=\"378.3067\" y=\"-92.5377\" font-family=\"Times,serif\" font-size=\"8.00\" fill=\"#000000\">3 v </text>\n",
       "</g>\n",
       "<!-- 11102611066140659541&#45;&#45;16313529505631114815 -->\n",
       "<g id=\"edge7\" class=\"edge\">\n",
       "<title>11102611066140659541&#45;&#45;16313529505631114815</title>\n",
       "<path fill=\"none\" stroke=\"#000000\" d=\"M454.2787,-99.0376C480.1473,-81.2426 510.3079,-60.4952 531.5994,-45.8488\"/>\n",
       "<text text-anchor=\"start\" x=\"489\" y=\"-74.6\" font-family=\"Times,serif\" font-size=\"8.00\" fill=\"#ff0000\">clamp_3</text>\n",
       "<text text-anchor=\"start\" x=\"512.5994\" y=\"-48.4488\" font-family=\"Times,serif\" font-size=\"8.00\" fill=\"#000000\">1 out </text>\n",
       "<text text-anchor=\"start\" x=\"439.2787\" y=\"-92.6376\" font-family=\"Times,serif\" font-size=\"8.00\" fill=\"#000000\">2 m </text>\n",
       "</g>\n",
       "<!-- 124111372307164255992 -->\n",
       "<g id=\"node8\" class=\"node\">\n",
       "<title>124111372307164255992</title>\n",
       "</g>\n",
       "<!-- 124111372307164255992&#45;&#45;4919835933602349011 -->\n",
       "<g id=\"edge2\" class=\"edge\">\n",
       "<title>124111372307164255992&#45;&#45;4919835933602349011</title>\n",
       "<path fill=\"none\" stroke=\"#000000\" d=\"M292,-332.747C292,-319.2495 292,-302.7693 292,-288.2253\"/>\n",
       "<text text-anchor=\"start\" x=\"292\" y=\"-308.6\" font-family=\"Times,serif\" font-size=\"8.00\" fill=\"#ff0000\">z</text>\n",
       "<text text-anchor=\"start\" x=\"273\" y=\"-290.8253\" font-family=\"Times,serif\" font-size=\"8.00\" fill=\"#000000\">1 out </text>\n",
       "</g>\n",
       "</g>\n",
       "</svg>\n"
      ]
     },
     "metadata": {},
     "output_type": "display_data"
    }
   ],
   "source": [
    "g3 = FactorGraph()\n",
    "@RV x ~ GaussianMeanVariance(0.0, 1.0)\n",
    "@RV y ~ GaussianMeanVariance(2.0, 3.0)\n",
    "@RV z = x + y\n",
    "ForneyLab.draw(g3)"
   ]
  },
  {
   "cell_type": "markdown",
   "metadata": {},
   "source": [
    "Next, we could be interested in inferring a property of `z`, e.g., the mean parameter for the distribution over `z`. This process can be automated by message passing in the graph. The next set of demo's will expand on the various methods for describing graphs and message passing inference methods with ForneyLab."
   ]
  },
  {
   "cell_type": "code",
   "execution_count": null,
   "metadata": {},
   "outputs": [],
   "source": []
  }
 ],
 "metadata": {
  "kernelspec": {
   "display_name": "Julia 1.3.0",
   "language": "julia",
   "name": "julia-1.3"
  },
  "language_info": {
   "file_extension": ".jl",
   "mimetype": "application/julia",
   "name": "julia",
   "version": "1.3.0"
  }
 },
 "nbformat": 4,
 "nbformat_minor": 4
}
