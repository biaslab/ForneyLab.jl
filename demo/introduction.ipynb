{
 "cells": [
  {
   "cell_type": "markdown",
   "metadata": {},
   "source": [
    "# Introduction to ForneyLab\n",
    "\n",
    "ForneyLab is a toolbox for deriving solutions to probabilistic inference problems by message passing on Forney-style factor graphs. A Forney-style factor graph (FFG) is a graphical representation of a factorized probabilistic model. Message passing solutions to inference tasks can be automatically derived from a probabilistic model specification. ForneyLab yields message passing algorithms (MPA) as Julia code. In other words, ForneyLab is a Julia program that automatically builds inference programs that are specified as Julia programs.\n",
    "\n",
    "These demos assume that the user is familiar with the FFG formalism. We recommend the following introductions: \n",
    "\n",
    "1. H.-A. Loeliger, J. Dauwels, J. Hu, S. Korl, Li Ping, and F. Kschischang,\n",
    "[The factor graph approach to model-based signal processing](https://people.ee.ethz.ch/~papers/docu/aloe-jdau-juhu-skor-2007-1.pdf), Proceedings of the IEEE, vol. 95, no. 6, pp. 1295-1322, June 2007. \n",
    "2. Korl, Sascha, [A factor graph approach to signal modelling, system identification and filtering](https://www.research-collection.ethz.ch/handle/20.500.11850/82737), Series in signal and information processing\n",
    "Doctoral Thesis, 2005\n",
    "\n",
    "We designed ForneyLab to be practical, while retaining maximal flexibility. The inherent modularity of the FFG framework allowed us to make ForneyLab extensible at all levels (nodes, update rules, algorithms, inference engines). Although we had performance in mind while developing ForneyLab, optimally efficient execution of the resulting inference programs (specified in Julia as message passing sequence) may still require custom work.  \n",
    "\n",
    "The ForneyLab approach to solving inference problems consists of three phases:\n",
    "\n",
    "1. **Model specification**. ForneyLab provides a simple meta-language to specifiy models.\n",
    "2. **Message Passing Agorithm (MPA) Generation**. This task is automatically performed by ForneyLab.\n",
    "3. **MPA Execution**. This is simply evaluating a Julia program.\n",
    "\n",
    "Each of the demos will step through these phases in turn, showcasing the most important ForneyLab functionalities. Although the demos each stand on their own, a recommended order would be\n",
    "\n",
    "1. `introduction`\n",
    "2. `state_estimation_forward_only`\n",
    "3. `state_estimation_forward_backward`\n",
    "4. `bayes_rule_2d`\n",
    "5. `kalman_smoother_2d`\n",
    "6. `variational_estimation_iid_gaussian`\n",
    "7. `variational_estimation_gaussian_mixture`\n",
    "8. `expectation_propagation`\n",
    "9. `expectation_maximization`\n",
    "10. `composite_nodes`\n",
    "11. `structured_variational_estimation`\n",
    "12. `hidden_markov_model_estimation`\n",
    "\n",
    "# Factor Graphs and Variables\n",
    "\n",
    "A central concept in ForneyLab is the (random) `Variable` type. After including ForneyLab and indicating that we start a new `FactorGraph`, we can declare a `Variable` by calling its constructor function: "
   ]
  },
  {
   "cell_type": "code",
   "execution_count": 1,
   "metadata": {},
   "outputs": [
    {
     "data": {
      "text/plain": [
       "Dict{Symbol, Variable} with 1 entry:\n",
       "  :x => Variable(:x, Edges:…"
      ]
     },
     "metadata": {},
     "output_type": "display_data"
    }
   ],
   "source": [
    "using ForneyLab\n",
    "\n",
    "# Declare a new graph\n",
    "g = FactorGraph()\n",
    "\n",
    "# Declare a variable\n",
    "x = Variable(id=:x)\n",
    "\n",
    "g.variables"
   ]
  },
  {
   "cell_type": "markdown",
   "metadata": {},
   "source": [
    "The call to `FactorGraph()` creates a factor graph type and registers the graph as the currently active graph. Note that the variable has been associated with an edge in the currently active graph. \n",
    "\n",
    "ForneyLab comes equipped with the `@RV` macro to define random variables. For instance, defining a new variable `y` with identifier `:y` and associating the variable to the current graph can also be accomplished by executing `@RV y`:"
   ]
  },
  {
   "cell_type": "code",
   "execution_count": 2,
   "metadata": {},
   "outputs": [
    {
     "data": {
      "text/plain": [
       "Dict{Symbol, Variable} with 2 entries:\n",
       "  :y => Variable(:y, Edges:…\n",
       "  :x => Variable(:x, Edges:…"
      ]
     },
     "metadata": {},
     "output_type": "display_data"
    }
   ],
   "source": [
    "@RV y\n",
    "\n",
    "g.variables"
   ]
  },
  {
   "cell_type": "markdown",
   "metadata": {},
   "source": [
    "We can assign a probability distribution to a random variable by the `~` operator:"
   ]
  },
  {
   "cell_type": "code",
   "execution_count": 3,
   "metadata": {
    "scrolled": true
   },
   "outputs": [
    {
     "data": {
      "text/plain": [
       "Dict{Symbol, Variable} with 5 entries:\n",
       "  :clamp_2 => Variable(:clamp_2, Edges:…\n",
       "  :y       => Variable(:y, Edges:…\n",
       "  :clamp_1 => Variable(:clamp_1, Edges:…\n",
       "  :z       => Variable(:z, Edges:…\n",
       "  :x       => Variable(:x, Edges:…"
      ]
     },
     "metadata": {},
     "output_type": "display_data"
    }
   ],
   "source": [
    "@RV z ~ Gaussian(0.0, 1.0)\n",
    "g.variables"
   ]
  },
  {
   "cell_type": "markdown",
   "metadata": {},
   "source": [
    "Note that the graph now also includes two variables with id `:clamp_1` and `:clamp_2`. These two variables correspond to the mean and variance parameters for the Gaussian and are clamped to values `0.0` and `1.0` respectively.\n",
    "\n",
    "If you have [graphviz](https://www.graphviz.org/) installed, then you can draw the factor graph. (Edges (variables) that are not constrained by any factor are not drawn):"
   ]
  },
  {
   "cell_type": "code",
   "execution_count": 4,
   "metadata": {},
   "outputs": [
    {
     "data": {
      "text/html": [
       "<?xml version=\"1.0\" encoding=\"UTF-8\" standalone=\"no\"?>\r\n",
       "<!DOCTYPE svg PUBLIC \"-//W3C//DTD SVG 1.1//EN\"\r\n",
       " \"http://www.w3.org/Graphics/SVG/1.1/DTD/svg11.dtd\">\r\n",
       "<!-- Generated by graphviz version 2.50.0 (20211204.2007)\r\n",
       " -->\r\n",
       "<!-- Title: G Pages: 1 -->\r\n",
       "<svg width=\"233pt\" height=\"278pt\"\r\n",
       " viewBox=\"0.00 0.00 233.39 278.00\" xmlns=\"http://www.w3.org/2000/svg\" xmlns:xlink=\"http://www.w3.org/1999/xlink\">\r\n",
       "<g id=\"graph0\" class=\"graph\" transform=\"scale(1 1) rotate(0) translate(4 274)\">\r\n",
       "<title>G</title>\r\n",
       "<polygon fill=\"white\" stroke=\"transparent\" points=\"-4,4 -4,-274 229.39,-274 229.39,4 -4,4\"/>\r\n",
       "<!-- 15335100661684263063 -->\r\n",
       "<g id=\"node1\" class=\"node\">\r\n",
       "<title>15335100661684263063</title>\r\n",
       "<polygon fill=\"lightgrey\" stroke=\"black\" points=\"56.39,-54 2.39,-54 2.39,0 56.39,0 56.39,-54\"/>\r\n",
       "<text text-anchor=\"middle\" x=\"29.39\" y=\"-24.8\" font-family=\"Times New Roman,serif\" font-size=\"9.00\">clamp_1</text>\r\n",
       "</g>\r\n",
       "<!-- 8921579398927852933 -->\r\n",
       "<g id=\"node2\" class=\"node\">\r\n",
       "<title>8921579398927852933</title>\r\n",
       "<polygon fill=\"lightgrey\" stroke=\"black\" points=\"225.39,-54 171.39,-54 171.39,0 225.39,0 225.39,-54\"/>\r\n",
       "<text text-anchor=\"middle\" x=\"198.39\" y=\"-24.8\" font-family=\"Times New Roman,serif\" font-size=\"9.00\">clamp_2</text>\r\n",
       "</g>\r\n",
       "<!-- 3058675740932430739 -->\r\n",
       "<g id=\"node3\" class=\"node\">\r\n",
       "<title>3058675740932430739</title>\r\n",
       "<polygon fill=\"none\" stroke=\"black\" points=\"149.39,-171 77.39,-171 77.39,-99 149.39,-99 149.39,-171\"/>\r\n",
       "<text text-anchor=\"middle\" x=\"113.39\" y=\"-137.8\" font-family=\"Times New Roman,serif\" font-size=\"9.00\">𝒩</text>\r\n",
       "<text text-anchor=\"middle\" x=\"113.39\" y=\"-127.8\" font-family=\"Times New Roman,serif\" font-size=\"9.00\">gaussian_1</text>\r\n",
       "</g>\r\n",
       "<!-- 3058675740932430739&#45;&#45;15335100661684263063 -->\r\n",
       "<g id=\"edge2\" class=\"edge\">\r\n",
       "<title>3058675740932430739&#45;&#45;15335100661684263063</title>\r\n",
       "<path fill=\"none\" stroke=\"black\" d=\"M76.97,-122.32C57.67,-114.05 35.68,-100.86 24.39,-81 19.83,-72.96 19.59,-63.12 21,-54.11\"/>\r\n",
       "<text text-anchor=\"start\" x=\"24.39\" y=\"-74.6\" font-family=\"Times New Roman,serif\" font-size=\"8.00\" fill=\"red\">clamp_1</text>\r\n",
       "<text text-anchor=\"start\" x=\"0\" y=\"-56.71\" font-family=\"Times New Roman,serif\" font-size=\"8.00\">1 out </text>\r\n",
       "<text text-anchor=\"start\" x=\"60.97\" y=\"-124.92\" font-family=\"Times New Roman,serif\" font-size=\"8.00\">2 m </text>\r\n",
       "</g>\r\n",
       "<!-- 3058675740932430739&#45;&#45;8921579398927852933 -->\r\n",
       "<g id=\"edge3\" class=\"edge\">\r\n",
       "<title>3058675740932430739&#45;&#45;8921579398927852933</title>\r\n",
       "<path fill=\"none\" stroke=\"black\" d=\"M141.46,-99C153.16,-84.4 166.52,-67.75 177.36,-54.23\"/>\r\n",
       "<text text-anchor=\"start\" x=\"160.39\" y=\"-74.6\" font-family=\"Times New Roman,serif\" font-size=\"8.00\" fill=\"red\">clamp_2</text>\r\n",
       "<text text-anchor=\"start\" x=\"156.36\" y=\"-56.83\" font-family=\"Times New Roman,serif\" font-size=\"8.00\">1 out </text>\r\n",
       "<text text-anchor=\"start\" x=\"127.46\" y=\"-92.6\" font-family=\"Times New Roman,serif\" font-size=\"8.00\">3 v </text>\r\n",
       "</g>\r\n",
       "<!-- 114397838042222490552 -->\r\n",
       "<g id=\"node4\" class=\"node\">\r\n",
       "<title>114397838042222490552</title>\r\n",
       "</g>\r\n",
       "<!-- 114397838042222490552&#45;&#45;3058675740932430739 -->\r\n",
       "<g id=\"edge1\" class=\"edge\">\r\n",
       "<title>114397838042222490552&#45;&#45;3058675740932430739</title>\r\n",
       "<path fill=\"none\" stroke=\"black\" d=\"M113.39,-215.8C113.39,-202.31 113.39,-185.68 113.39,-171.1\"/>\r\n",
       "<text text-anchor=\"start\" x=\"113.39\" y=\"-191.6\" font-family=\"Times New Roman,serif\" font-size=\"8.00\" fill=\"red\">z</text>\r\n",
       "<text text-anchor=\"start\" x=\"92.39\" y=\"-173.7\" font-family=\"Times New Roman,serif\" font-size=\"8.00\">1 out </text>\r\n",
       "</g>\r\n",
       "</g>\r\n",
       "</svg>\r\n"
      ]
     },
     "metadata": {},
     "output_type": "display_data"
    }
   ],
   "source": [
    "ForneyLab.draw(g) # draw the graph"
   ]
  },
  {
   "cell_type": "markdown",
   "metadata": {},
   "source": [
    "In case you don't like the automatically generated id's `:clamp_1` and `:clamp_2`, you could have declared the parameters of the Gaussian distribution through the `@RV` macro and associated a `Clamp` distribution with these variables:"
   ]
  },
  {
   "cell_type": "code",
   "execution_count": 5,
   "metadata": {},
   "outputs": [
    {
     "data": {
      "text/plain": [
       "Dict{Symbol, Variable} with 3 entries:\n",
       "  :m => Variable(:m, Edges:…\n",
       "  :v => Variable(:v, Edges:…\n",
       "  :z => Variable(:z, Edges:…"
      ]
     },
     "metadata": {},
     "output_type": "display_data"
    }
   ],
   "source": [
    "g2 = FactorGraph()\n",
    "@RV m ~ Clamp(0.0)\n",
    "@RV v ~ Clamp(1.0)\n",
    "@RV z ~ Gaussian(m, v)\n",
    "g2.variables"
   ]
  },
  {
   "cell_type": "code",
   "execution_count": 6,
   "metadata": {},
   "outputs": [
    {
     "data": {
      "text/html": [
       "<?xml version=\"1.0\" encoding=\"UTF-8\" standalone=\"no\"?>\r\n",
       "<!DOCTYPE svg PUBLIC \"-//W3C//DTD SVG 1.1//EN\"\r\n",
       " \"http://www.w3.org/Graphics/SVG/1.1/DTD/svg11.dtd\">\r\n",
       "<!-- Generated by graphviz version 2.50.0 (20211204.2007)\r\n",
       " -->\r\n",
       "<!-- Title: G Pages: 1 -->\r\n",
       "<svg width=\"231pt\" height=\"278pt\"\r\n",
       " viewBox=\"0.00 0.00 231.00 278.00\" xmlns=\"http://www.w3.org/2000/svg\" xmlns:xlink=\"http://www.w3.org/1999/xlink\">\r\n",
       "<g id=\"graph0\" class=\"graph\" transform=\"scale(1 1) rotate(0) translate(4 274)\">\r\n",
       "<title>G</title>\r\n",
       "<polygon fill=\"white\" stroke=\"transparent\" points=\"-4,4 -4,-274 227,-274 227,4 -4,4\"/>\r\n",
       "<!-- 5797040113063235401 -->\r\n",
       "<g id=\"node1\" class=\"node\">\r\n",
       "<title>5797040113063235401</title>\r\n",
       "<polygon fill=\"lightgrey\" stroke=\"black\" points=\"54,-54 0,-54 0,0 54,0 54,-54\"/>\r\n",
       "<text text-anchor=\"middle\" x=\"27\" y=\"-24.8\" font-family=\"Times New Roman,serif\" font-size=\"9.00\">clamp_1</text>\r\n",
       "</g>\r\n",
       "<!-- 2892334103078423988 -->\r\n",
       "<g id=\"node2\" class=\"node\">\r\n",
       "<title>2892334103078423988</title>\r\n",
       "<polygon fill=\"none\" stroke=\"black\" points=\"147,-171 75,-171 75,-99 147,-99 147,-171\"/>\r\n",
       "<text text-anchor=\"middle\" x=\"111\" y=\"-137.8\" font-family=\"Times New Roman,serif\" font-size=\"9.00\">𝒩</text>\r\n",
       "<text text-anchor=\"middle\" x=\"111\" y=\"-127.8\" font-family=\"Times New Roman,serif\" font-size=\"9.00\">gaussian_1</text>\r\n",
       "</g>\r\n",
       "<!-- 2892334103078423988&#45;&#45;5797040113063235401 -->\r\n",
       "<g id=\"edge2\" class=\"edge\">\r\n",
       "<title>2892334103078423988&#45;&#45;5797040113063235401</title>\r\n",
       "<path fill=\"none\" stroke=\"black\" d=\"M74.67,-110.08C64.3,-101.86 53.73,-91.94 46,-81 40.36,-73.02 36.22,-63.19 33.28,-54.17\"/>\r\n",
       "<text text-anchor=\"start\" x=\"46\" y=\"-74.6\" font-family=\"Times New Roman,serif\" font-size=\"8.00\" fill=\"red\">m</text>\r\n",
       "<text text-anchor=\"start\" x=\"12.28\" y=\"-56.77\" font-family=\"Times New Roman,serif\" font-size=\"8.00\">1 out </text>\r\n",
       "<text text-anchor=\"start\" x=\"58.67\" y=\"-112.68\" font-family=\"Times New Roman,serif\" font-size=\"8.00\">2 m </text>\r\n",
       "</g>\r\n",
       "<!-- 16519107090525708682 -->\r\n",
       "<g id=\"node3\" class=\"node\">\r\n",
       "<title>16519107090525708682</title>\r\n",
       "<polygon fill=\"lightgrey\" stroke=\"black\" points=\"223,-54 169,-54 169,0 223,0 223,-54\"/>\r\n",
       "<text text-anchor=\"middle\" x=\"196\" y=\"-24.8\" font-family=\"Times New Roman,serif\" font-size=\"9.00\">clamp_2</text>\r\n",
       "</g>\r\n",
       "<!-- 2892334103078423988&#45;&#45;16519107090525708682 -->\r\n",
       "<g id=\"edge3\" class=\"edge\">\r\n",
       "<title>2892334103078423988&#45;&#45;16519107090525708682</title>\r\n",
       "<path fill=\"none\" stroke=\"black\" d=\"M139.07,-99C150.77,-84.4 164.13,-67.75 174.96,-54.23\"/>\r\n",
       "<text text-anchor=\"start\" x=\"158\" y=\"-74.6\" font-family=\"Times New Roman,serif\" font-size=\"8.00\" fill=\"red\">v</text>\r\n",
       "<text text-anchor=\"start\" x=\"153.96\" y=\"-56.83\" font-family=\"Times New Roman,serif\" font-size=\"8.00\">1 out </text>\r\n",
       "<text text-anchor=\"start\" x=\"125.07\" y=\"-92.6\" font-family=\"Times New Roman,serif\" font-size=\"8.00\">3 v </text>\r\n",
       "</g>\r\n",
       "<!-- 159304502387984410372 -->\r\n",
       "<g id=\"node4\" class=\"node\">\r\n",
       "<title>159304502387984410372</title>\r\n",
       "</g>\r\n",
       "<!-- 159304502387984410372&#45;&#45;2892334103078423988 -->\r\n",
       "<g id=\"edge1\" class=\"edge\">\r\n",
       "<title>159304502387984410372&#45;&#45;2892334103078423988</title>\r\n",
       "<path fill=\"none\" stroke=\"black\" d=\"M111,-215.8C111,-202.31 111,-185.68 111,-171.1\"/>\r\n",
       "<text text-anchor=\"start\" x=\"111\" y=\"-191.6\" font-family=\"Times New Roman,serif\" font-size=\"8.00\" fill=\"red\">z</text>\r\n",
       "<text text-anchor=\"start\" x=\"90\" y=\"-173.7\" font-family=\"Times New Roman,serif\" font-size=\"8.00\">1 out </text>\r\n",
       "</g>\r\n",
       "</g>\r\n",
       "</svg>\r\n"
      ]
     },
     "metadata": {},
     "output_type": "display_data"
    }
   ],
   "source": [
    "ForneyLab.draw(g2)"
   ]
  },
  {
   "cell_type": "markdown",
   "metadata": {},
   "source": [
    "The graph stores the identifier of each variable. This is useful because now we can retrieve a variable from a graph by its identifier, .e.g.,"
   ]
  },
  {
   "cell_type": "code",
   "execution_count": 7,
   "metadata": {},
   "outputs": [
    {
     "data": {
      "text/plain": [
       "Variable(:m, Edges:\n",
       "Edge belonging to variable m: ( clamp_1.i[out] )----( gaussian_1.i[m] ).\n",
       ")"
      ]
     },
     "metadata": {},
     "output_type": "display_data"
    }
   ],
   "source": [
    "g2.variables[:m]"
   ]
  },
  {
   "cell_type": "markdown",
   "metadata": {},
   "source": [
    "Let's build another simple factor graph for \n",
    "$$\\begin{align*}\n",
    "p(x,y,z) &= p(z|x,y)\\,p(x)\\,p(y) \\\\\n",
    "  &= \\delta(z-(x+y))\\,\\mathcal{N}(x\\,|\\,0.0,1.0)\\,\\mathcal{N}(y\\,|\\,2.0,3.0)\n",
    "\\end{align*}$$"
   ]
  },
  {
   "cell_type": "code",
   "execution_count": 8,
   "metadata": {},
   "outputs": [
    {
     "data": {
      "text/html": [
       "<?xml version=\"1.0\" encoding=\"UTF-8\" standalone=\"no\"?>\r\n",
       "<!DOCTYPE svg PUBLIC \"-//W3C//DTD SVG 1.1//EN\"\r\n",
       " \"http://www.w3.org/Graphics/SVG/1.1/DTD/svg11.dtd\">\r\n",
       "<!-- Generated by graphviz version 2.50.0 (20211204.2007)\r\n",
       " -->\r\n",
       "<!-- Title: G Pages: 1 -->\r\n",
       "<svg width=\"578pt\" height=\"395pt\"\r\n",
       " viewBox=\"0.00 0.00 578.00 395.00\" xmlns=\"http://www.w3.org/2000/svg\" xmlns:xlink=\"http://www.w3.org/1999/xlink\">\r\n",
       "<g id=\"graph0\" class=\"graph\" transform=\"scale(1 1) rotate(0) translate(4 391)\">\r\n",
       "<title>G</title>\r\n",
       "<polygon fill=\"white\" stroke=\"transparent\" points=\"-4,4 -4,-391 574,-391 574,4 -4,4\"/>\r\n",
       "<!-- 12251333107437331156 -->\r\n",
       "<g id=\"node1\" class=\"node\">\r\n",
       "<title>12251333107437331156</title>\r\n",
       "<polygon fill=\"lightgrey\" stroke=\"black\" points=\"401,-54 347,-54 347,0 401,0 401,-54\"/>\r\n",
       "<text text-anchor=\"middle\" x=\"374\" y=\"-24.8\" font-family=\"Times New Roman,serif\" font-size=\"9.00\">clamp_1</text>\r\n",
       "</g>\r\n",
       "<!-- 17879743668198379930 -->\r\n",
       "<g id=\"node2\" class=\"node\">\r\n",
       "<title>17879743668198379930</title>\r\n",
       "<polygon fill=\"lightgrey\" stroke=\"black\" points=\"54,-54 0,-54 0,0 54,0 54,-54\"/>\r\n",
       "<text text-anchor=\"middle\" x=\"27\" y=\"-24.8\" font-family=\"Times New Roman,serif\" font-size=\"9.00\">clamp_3</text>\r\n",
       "</g>\r\n",
       "<!-- 5400506301692437056 -->\r\n",
       "<g id=\"node3\" class=\"node\">\r\n",
       "<title>5400506301692437056</title>\r\n",
       "<polygon fill=\"lightgrey\" stroke=\"black\" points=\"570,-54 516,-54 516,0 570,0 570,-54\"/>\r\n",
       "<text text-anchor=\"middle\" x=\"543\" y=\"-24.8\" font-family=\"Times New Roman,serif\" font-size=\"9.00\">clamp_2</text>\r\n",
       "</g>\r\n",
       "<!-- 1656372167433462136 -->\r\n",
       "<g id=\"node4\" class=\"node\">\r\n",
       "<title>1656372167433462136</title>\r\n",
       "<polygon fill=\"lightgrey\" stroke=\"black\" points=\"223,-54 169,-54 169,0 223,0 223,-54\"/>\r\n",
       "<text text-anchor=\"middle\" x=\"196\" y=\"-24.8\" font-family=\"Times New Roman,serif\" font-size=\"9.00\">clamp_4</text>\r\n",
       "</g>\r\n",
       "<!-- 16338633966881494091 -->\r\n",
       "<g id=\"node5\" class=\"node\">\r\n",
       "<title>16338633966881494091</title>\r\n",
       "<polygon fill=\"none\" stroke=\"black\" points=\"227,-171 155,-171 155,-99 227,-99 227,-171\"/>\r\n",
       "<text text-anchor=\"middle\" x=\"191\" y=\"-137.8\" font-family=\"Times New Roman,serif\" font-size=\"9.00\">𝒩</text>\r\n",
       "<text text-anchor=\"middle\" x=\"191\" y=\"-127.8\" font-family=\"Times New Roman,serif\" font-size=\"9.00\">gaussian_2</text>\r\n",
       "</g>\r\n",
       "<!-- 16338633966881494091&#45;&#45;17879743668198379930 -->\r\n",
       "<g id=\"edge7\" class=\"edge\">\r\n",
       "<title>16338633966881494091&#45;&#45;17879743668198379930</title>\r\n",
       "<path fill=\"none\" stroke=\"black\" d=\"M154.6,-110.48C124.22,-90.84 81.58,-63.28 54.12,-45.53\"/>\r\n",
       "<text text-anchor=\"start\" x=\"109\" y=\"-74.6\" font-family=\"Times New Roman,serif\" font-size=\"8.00\" fill=\"red\">clamp_3</text>\r\n",
       "<text text-anchor=\"start\" x=\"54.12\" y=\"-48.13\" font-family=\"Times New Roman,serif\" font-size=\"8.00\">1 out </text>\r\n",
       "<text text-anchor=\"start\" x=\"138.6\" y=\"-113.08\" font-family=\"Times New Roman,serif\" font-size=\"8.00\">2 m </text>\r\n",
       "</g>\r\n",
       "<!-- 16338633966881494091&#45;&#45;1656372167433462136 -->\r\n",
       "<g id=\"edge3\" class=\"edge\">\r\n",
       "<title>16338633966881494091&#45;&#45;1656372167433462136</title>\r\n",
       "<path fill=\"none\" stroke=\"black\" d=\"M192.65,-99C193.34,-84.4 194.13,-67.75 194.76,-54.23\"/>\r\n",
       "<text text-anchor=\"start\" x=\"194\" y=\"-74.6\" font-family=\"Times New Roman,serif\" font-size=\"8.00\" fill=\"red\">clamp_4</text>\r\n",
       "<text text-anchor=\"start\" x=\"173.76\" y=\"-56.83\" font-family=\"Times New Roman,serif\" font-size=\"8.00\">1 out </text>\r\n",
       "<text text-anchor=\"start\" x=\"178.65\" y=\"-92.6\" font-family=\"Times New Roman,serif\" font-size=\"8.00\">3 v </text>\r\n",
       "</g>\r\n",
       "<!-- 305956355523109987 -->\r\n",
       "<g id=\"node6\" class=\"node\">\r\n",
       "<title>305956355523109987</title>\r\n",
       "<polygon fill=\"none\" stroke=\"black\" points=\"320,-288 248,-288 248,-216 320,-216 320,-288\"/>\r\n",
       "<text text-anchor=\"middle\" x=\"284\" y=\"-254.8\" font-family=\"Times New Roman,serif\" font-size=\"9.00\">+</text>\r\n",
       "<text text-anchor=\"middle\" x=\"284\" y=\"-244.8\" font-family=\"Times New Roman,serif\" font-size=\"9.00\">addition_1</text>\r\n",
       "</g>\r\n",
       "<!-- 305956355523109987&#45;&#45;16338633966881494091 -->\r\n",
       "<g id=\"edge4\" class=\"edge\">\r\n",
       "<title>305956355523109987&#45;&#45;16338633966881494091</title>\r\n",
       "<path fill=\"none\" stroke=\"black\" d=\"M248,-220.57C240.64,-213.54 233.24,-205.81 227,-198 220.48,-189.83 214.36,-180.35 209.08,-171.29\"/>\r\n",
       "<text text-anchor=\"start\" x=\"227\" y=\"-191.6\" font-family=\"Times New Roman,serif\" font-size=\"8.00\" fill=\"red\">y</text>\r\n",
       "<text text-anchor=\"start\" x=\"188.08\" y=\"-173.89\" font-family=\"Times New Roman,serif\" font-size=\"8.00\">1 out </text>\r\n",
       "<text text-anchor=\"start\" x=\"227\" y=\"-223.17\" font-family=\"Times New Roman,serif\" font-size=\"8.00\">3 in2 </text>\r\n",
       "</g>\r\n",
       "<!-- 15297365997132908320 -->\r\n",
       "<g id=\"node7\" class=\"node\">\r\n",
       "<title>15297365997132908320</title>\r\n",
       "<polygon fill=\"none\" stroke=\"black\" points=\"414,-171 342,-171 342,-99 414,-99 414,-171\"/>\r\n",
       "<text text-anchor=\"middle\" x=\"378\" y=\"-137.8\" font-family=\"Times New Roman,serif\" font-size=\"9.00\">𝒩</text>\r\n",
       "<text text-anchor=\"middle\" x=\"378\" y=\"-127.8\" font-family=\"Times New Roman,serif\" font-size=\"9.00\">gaussian_1</text>\r\n",
       "</g>\r\n",
       "<!-- 305956355523109987&#45;&#45;15297365997132908320 -->\r\n",
       "<g id=\"edge2\" class=\"edge\">\r\n",
       "<title>305956355523109987&#45;&#45;15297365997132908320</title>\r\n",
       "<path fill=\"none\" stroke=\"black\" d=\"M312.71,-215.87C324.27,-201.74 337.57,-185.46 349.14,-171.31\"/>\r\n",
       "<text text-anchor=\"start\" x=\"333\" y=\"-191.6\" font-family=\"Times New Roman,serif\" font-size=\"8.00\" fill=\"red\">x</text>\r\n",
       "<text text-anchor=\"start\" x=\"328.14\" y=\"-173.91\" font-family=\"Times New Roman,serif\" font-size=\"8.00\">1 out </text>\r\n",
       "<text text-anchor=\"start\" x=\"291.71\" y=\"-209.47\" font-family=\"Times New Roman,serif\" font-size=\"8.00\">2 in1 </text>\r\n",
       "</g>\r\n",
       "<!-- 15297365997132908320&#45;&#45;12251333107437331156 -->\r\n",
       "<g id=\"edge1\" class=\"edge\">\r\n",
       "<title>15297365997132908320&#45;&#45;12251333107437331156</title>\r\n",
       "<path fill=\"none\" stroke=\"black\" d=\"M370.39,-98.7C369.2,-90 368.51,-80.69 369,-72 369.33,-66.17 369.91,-59.92 370.55,-54.02\"/>\r\n",
       "<text text-anchor=\"start\" x=\"369\" y=\"-74.6\" font-family=\"Times New Roman,serif\" font-size=\"8.00\" fill=\"red\">clamp_1</text>\r\n",
       "<text text-anchor=\"start\" x=\"349.55\" y=\"-56.62\" font-family=\"Times New Roman,serif\" font-size=\"8.00\">1 out </text>\r\n",
       "<text text-anchor=\"start\" x=\"354.39\" y=\"-92.3\" font-family=\"Times New Roman,serif\" font-size=\"8.00\">2 m </text>\r\n",
       "</g>\r\n",
       "<!-- 15297365997132908320&#45;&#45;5400506301692437056 -->\r\n",
       "<g id=\"edge6\" class=\"edge\">\r\n",
       "<title>15297365997132908320&#45;&#45;5400506301692437056</title>\r\n",
       "<path fill=\"none\" stroke=\"black\" d=\"M414.21,-110.74C444.85,-91.05 488.09,-63.28 515.83,-45.45\"/>\r\n",
       "<text text-anchor=\"start\" x=\"470\" y=\"-74.6\" font-family=\"Times New Roman,serif\" font-size=\"8.00\" fill=\"red\">clamp_2</text>\r\n",
       "<text text-anchor=\"start\" x=\"494.83\" y=\"-48.05\" font-family=\"Times New Roman,serif\" font-size=\"8.00\">1 out </text>\r\n",
       "<text text-anchor=\"start\" x=\"414.21\" y=\"-113.34\" font-family=\"Times New Roman,serif\" font-size=\"8.00\">3 v </text>\r\n",
       "</g>\r\n",
       "<!-- 57163985285005933412 -->\r\n",
       "<g id=\"node8\" class=\"node\">\r\n",
       "<title>57163985285005933412</title>\r\n",
       "</g>\r\n",
       "<!-- 57163985285005933412&#45;&#45;305956355523109987 -->\r\n",
       "<g id=\"edge5\" class=\"edge\">\r\n",
       "<title>57163985285005933412&#45;&#45;305956355523109987</title>\r\n",
       "<path fill=\"none\" stroke=\"black\" d=\"M284,-332.8C284,-319.31 284,-302.68 284,-288.1\"/>\r\n",
       "<text text-anchor=\"start\" x=\"284\" y=\"-308.6\" font-family=\"Times New Roman,serif\" font-size=\"8.00\" fill=\"red\">z</text>\r\n",
       "<text text-anchor=\"start\" x=\"263\" y=\"-290.7\" font-family=\"Times New Roman,serif\" font-size=\"8.00\">1 out </text>\r\n",
       "</g>\r\n",
       "</g>\r\n",
       "</svg>\r\n"
      ]
     },
     "metadata": {},
     "output_type": "display_data"
    }
   ],
   "source": [
    "g3 = FactorGraph()\n",
    "@RV x ~ Gaussian(0.0, 1.0)\n",
    "@RV y ~ Gaussian(2.0, 3.0)\n",
    "@RV z = x + y\n",
    "ForneyLab.draw(g3)"
   ]
  },
  {
   "cell_type": "markdown",
   "metadata": {},
   "source": [
    "Next, we could be interested in inferring a property of `z`, e.g., the mean parameter for the distribution over `z`. This process can be automated by message passing in the graph. The remaining demos will expand on the various methods for describing graphs and message passing inference methods with ForneyLab."
   ]
  }
 ],
 "metadata": {
  "kernelspec": {
   "display_name": "Julia 1.6.4",
   "language": "julia",
   "name": "julia-1.6"
  },
  "language_info": {
   "file_extension": ".jl",
   "mimetype": "application/julia",
   "name": "julia",
   "version": "1.6.4"
  }
 },
 "nbformat": 4,
 "nbformat_minor": 4
}
