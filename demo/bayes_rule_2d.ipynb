{
 "cells": [
  {
   "cell_type": "markdown",
   "metadata": {},
   "source": [
    "# Bayes rule for 2-D Gaussians\n",
    "\n",
    "The following demo is provided by courtesy of Kevin Murphy and is based on Sec.4.4.2.2 of his book (Murphy, 2012; [\"Machine Learning - A Probabilistic Perspective\"](https://www.cs.ubc.ca/~murphyk/MLbook/)).\n",
    "\n",
    "We are interested in estimating a posterior belief over a latent variable `x` from observations `y=y_hat` following the 2-dimensional Gaussian linear model\n",
    "\n",
    "\\begin{align*}\n",
    "    x &\\sim \\mathcal{N}(\\mu_x, \\Sigma_x)\\\\\n",
    "    y_i &\\sim \\mathcal{N}(Ax + b, \\Sigma_y)\\,.\n",
    "\\end{align*}"
   ]
  },
  {
   "cell_type": "code",
   "execution_count": 1,
   "metadata": {},
   "outputs": [],
   "source": [
    "using ForneyLab\n",
    "using LinearAlgebra\n",
    "using Random\n",
    "import Distributions: pdf, MvNormal, rand\n",
    "\n",
    "Random.seed!(1) # Set random seed\n",
    "\n",
    "n = 10 # Number of datapoints\n",
    "\n",
    "# Data\n",
    "true_x = [0.5, 0.5] # True value for latent variable x\n",
    "A = diageye(2) # diageye returns an identity matrix of type Diagonal\n",
    "b = zeros(2)\n",
    "Sigma_y = 0.1*[2 1; 1 1] # Observation covariance\n",
    "\n",
    "y_hat_mat = rand(MvNormal(A*true_x + b, Sigma_y), n)' # Data matrix\n",
    "y_hat = [y_hat_mat[i,:] for i=1:n] # Unfold data matrix in a vector of vectors\n",
    ";"
   ]
  },
  {
   "cell_type": "markdown",
   "metadata": {},
   "source": [
    "## Model specification"
   ]
  },
  {
   "cell_type": "code",
   "execution_count": 2,
   "metadata": {},
   "outputs": [],
   "source": [
    "g = FactorGraph() # Initiate a new factor graph\n",
    "\n",
    "# Model\n",
    "@RV x ~ Gaussian(placeholder(:mu_x, dims=(2,)), \n",
    "                 placeholder(:Sigma_x, dims=(2,2))) # Prior with placeholders for statistics\n",
    "@RV y ~ Gaussian(A*x + b, Sigma_y) # Likelihood\n",
    "\n",
    "placeholder(y, :y, dims=(2,)) # Indicate observed variable; dims indicates the dimensionality of the data\n",
    ";"
   ]
  },
  {
   "cell_type": "markdown",
   "metadata": {},
   "source": [
    "## Algorithm generation"
   ]
  },
  {
   "cell_type": "code",
   "execution_count": 3,
   "metadata": {},
   "outputs": [
    {
     "name": "stdout",
     "output_type": "stream",
     "text": [
      "begin\n",
      "\n",
      "function step!(data::Dict, marginals::Dict=Dict(), messages::Vector{Message}=Array{Message}(undef, 4))\n",
      "\n",
      "messages[1] = ruleSPGaussianMomentsOutNPP(nothing, Message(Multivariate, PointMass, m=data[:mu_x]), Message(MatrixVariate, PointMass, m=data[:Sigma_x]))\n",
      "messages[2] = ruleSPGaussianMomentsMPNP(Message(Multivariate, PointMass, m=data[:y]), nothing, Message(MatrixVariate, PointMass, m=[0.2 0.1; 0.1 0.1]))\n",
      "messages[3] = ruleSPAdditionIn1GNP(messages[2], nothing, Message(Multivariate, PointMass, m=[0.0, 0.0]))\n",
      "messages[4] = ruleSPMultiplicationIn1GNP(messages[3], nothing, Message(MatrixVariate, PointMass, m=Diagonal([1.0, 1.0])))\n",
      "\n",
      "marginals[:x] = messages[1].dist * messages[4].dist\n",
      "\n",
      "return marginals\n",
      "\n",
      "end\n",
      "\n",
      "end # block\n"
     ]
    }
   ],
   "source": [
    "algo = messagePassingAlgorithm(x) # Generate algorithm\n",
    "source_code = algorithmSourceCode(algo)\n",
    "eval(Meta.parse(source_code)) # Load algorithm\n",
    "\n",
    "println(source_code) # Inspect the algorithm"
   ]
  },
  {
   "cell_type": "markdown",
   "metadata": {},
   "source": [
    "## Algorithm execution"
   ]
  },
  {
   "cell_type": "code",
   "execution_count": 4,
   "metadata": {},
   "outputs": [],
   "source": [
    "# Prior statistics\n",
    "mu_x_0 = zeros(2)\n",
    "Sigma_x_0 = 0.1*diageye(2)\n",
    "\n",
    "# Perform inference\n",
    "mu_x = deepcopy(mu_x_0)\n",
    "Sigma_x = deepcopy(Sigma_x_0)\n",
    "for i = 1:n\n",
    "    data = Dict(:mu_x => mu_x,\n",
    "                :Sigma_x => Sigma_x,\n",
    "                :y => y_hat[i]) # Prepare dictionary with prior statistics and present datapoint\n",
    "    \n",
    "    marginals = step!(data) # Execute the algorithm\n",
    "    \n",
    "    # Today's posterior is tomorrow's prior\n",
    "    mu_x = mean(marginals[:x])\n",
    "    Sigma_x = cov(marginals[:x])\n",
    "end\n",
    ";"
   ]
  },
  {
   "cell_type": "markdown",
   "metadata": {},
   "source": [
    "## Results"
   ]
  },
  {
   "cell_type": "code",
   "execution_count": 5,
   "metadata": {},
   "outputs": [],
   "source": [
    "using PyPlot\n",
    "\n",
    "# Plot data\n",
    "scatter(y_hat_mat[:,1], y_hat_mat[:,2], label=\"obs\", s=50)\n",
    "scatter(true_x[1], true_x[2], marker=\"x\", color=\"black\", s=100, lw=4)\n",
    "title(\"data\")\n",
    "grid(\"on\")\n",
    "axis(\"square\")\n",
    "xlim(-1.0, 1.0)\n",
    "ylim(-1.0, 1.0)\n",
    "xlabel(\"x1\")\n",
    "ylabel(\"x2\")\n",
    ";"
   ]
  },
  {
   "cell_type": "code",
   "execution_count": 6,
   "metadata": {},
   "outputs": [],
   "source": [
    "# Prepare plotting grids\n",
    "k = 100\n",
    "x1 = x2 = range(-1.0, 1.0, length=100)\n",
    "x1_grid = repeat(x1', k, 1)\n",
    "x2_grid = repeat(x2, 1, k)\n",
    "\n",
    "z_prior = zeros(k,k)\n",
    "z_posterior = zeros(k,k)\n",
    "for i in 1:k\n",
    "    for j in 1:k\n",
    "        z_prior[i,j] = pdf(MvNormal(mu_x_0, Sigma_x_0), [x1[i], x2[j]])\n",
    "        z_posterior[i,j] = pdf(MvNormal(mu_x, Sigma_x), [x1[i], x2[j]])\n",
    "    end\n",
    "end\n",
    "\n",
    "# Plot prior\n",
    "contour(x1_grid, x2_grid, z_prior)\n",
    "title(\"prior\")\n",
    "grid(\"on\")\n",
    "axis(\"square\")\n",
    "xlabel(\"x1\")\n",
    "ylabel(\"x2\")\n",
    ";"
   ]
  },
  {
   "cell_type": "code",
   "execution_count": 7,
   "metadata": {},
   "outputs": [],
   "source": [
    "# Plot posterior\n",
    "contour(x1_grid, x2_grid, z_posterior)\n",
    "title(\"posterior\")\n",
    "grid(\"on\")\n",
    "axis(\"square\")\n",
    "xlabel(\"x1\")\n",
    "ylabel(\"x2\")\n",
    ";"
   ]
  }
 ],
 "metadata": {
  "@webio": {
   "lastCommId": null,
   "lastKernelId": null
  },
  "kernelspec": {
   "display_name": "Julia 1.6.4",
   "language": "julia",
   "name": "julia-1.6"
  },
  "language_info": {
   "file_extension": ".jl",
   "mimetype": "application/julia",
   "name": "julia",
   "version": "1.6.4"
  }
 },
 "nbformat": 4,
 "nbformat_minor": 4
}
