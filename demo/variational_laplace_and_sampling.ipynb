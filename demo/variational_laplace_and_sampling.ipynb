{
 "cells": [
  {
   "cell_type": "markdown",
   "metadata": {},
   "source": [
    "# Variational Laplace and Sampling\n",
    "\n",
    "This demo exemplifies sampling-based and Laplace-approximated message passing that generalize ForneyLab beyond analytical message updates. The present demo illustrates the versatility of these approaches, especially when combined in a number of example applications:\n",
    "\n",
    "1. Inference in non-conjugate models (univariate)\n",
    "2. Inference in non-conjugate models (multivariate)\n",
    "3. Sampling-based approximation of the posterior\n",
    "4. Hierarchical models and nonlinear functions\n",
    "5. Hybrid models\n",
    "6. Nonlinear functions with multiple arguments\n",
    "\n",
    "\n",
    "## 1. Inference in non-conjucate models (univariate)\n",
    "\n",
    "In the first example, we assume an observation $y$ that is drawn from a Gaussian distribution, of which we know the mean $m$ is positive. We are interested in inferring a posterior belief over the mean. In this model, we enforce the positivity mean by a non-conjugate Gamma prior.\n",
    "\n",
    "We approximate the posterior belief with a Gaussian through a Laplace approximation. ForneyLab fully automates this procedure as a gradient ascent on the log-pdf of posterior, where the gradients are obtained by automatic differentiation. Step sizes are also adjusted automaticely according to the goodness of the fit."
   ]
  },
  {
   "cell_type": "code",
   "execution_count": 1,
   "metadata": {},
   "outputs": [],
   "source": [
    "using ForneyLab, LinearAlgebra\n",
    "\n",
    "# Build a non-conjugate model\n",
    "g = FactorGraph()\n",
    "\n",
    "@RV m ~ Gamma(0.5, 0.2) # Choose a Gamma prior for the mean\n",
    "@RV y ~ GaussianMeanVariance(m, 1.0)\n",
    "\n",
    "placeholder(y, :y)\n",
    ";"
   ]
  },
  {
   "cell_type": "code",
   "execution_count": 2,
   "metadata": {},
   "outputs": [],
   "source": [
    "# Construct an algorithm that infers a belief for the mean\n",
    "algo = sumProductAlgorithm(m)\n",
    "source_code = algorithmSourceCode(algo)\n",
    "eval(Meta.parse(source_code));\n",
    "# println(source_code) # Uncomment to inspect source code"
   ]
  },
  {
   "cell_type": "code",
   "execution_count": 3,
   "metadata": {},
   "outputs": [
    {
     "data": {
      "text/plain": [
       "𝒩(m=1.71, w=0.83)\n"
      ]
     },
     "execution_count": 3,
     "metadata": {},
     "output_type": "execute_result"
    }
   ],
   "source": [
    "# Execute the algorithm\n",
    "data = Dict(:y => 2.2)\n",
    "marginals = step!(data)\n",
    "marginals[:m] # Inspect the resulting belief"
   ]
  },
  {
   "cell_type": "markdown",
   "metadata": {},
   "source": [
    "## 2. Inference in non-conjugate models (multivariate)"
   ]
  },
  {
   "cell_type": "markdown",
   "metadata": {},
   "source": [
    "The above example can also be extended to a multivariate model. Here we consider a three-dimensional Gaussian observation $y$, for which the elements of the mean $m$ must sum to unity. This constraint can be enforced by a Dirichlet prior on the mean."
   ]
  },
  {
   "cell_type": "code",
   "execution_count": 4,
   "metadata": {},
   "outputs": [],
   "source": [
    "# Build a non-conjugate model\n",
    "g = FactorGraph()\n",
    "\n",
    "@RV m ~ Dirichlet([2.0, 1.0, 3.4])\n",
    "@RV y ~ GaussianMeanVariance(m, diageye(3))\n",
    "\n",
    "placeholder(y, :y, dims=(3,))\n",
    ";"
   ]
  },
  {
   "cell_type": "code",
   "execution_count": 5,
   "metadata": {},
   "outputs": [],
   "source": [
    "# Infer an algorithm\n",
    "algo = sumProductAlgorithm(m)\n",
    "source_code = algorithmSourceCode(algo)\n",
    "eval(Meta.parse(source_code));\n",
    "# println(source_code) # Uncomment to inspect source code"
   ]
  },
  {
   "cell_type": "code",
   "execution_count": 6,
   "metadata": {},
   "outputs": [
    {
     "data": {
      "text/plain": [
       "𝒩(m=[3.49, 3.20, 3.83], w=[[1.08, -0.00, -0.00][-0.00, 1.00, -0.00][-0.00, -0.00, 1.16]])\n"
      ]
     },
     "execution_count": 6,
     "metadata": {},
     "output_type": "execute_result"
    }
   ],
   "source": [
    "# Execute the algorithm\n",
    "data = Dict(:y => [3.2, 3.2, 3.2])\n",
    "marginals = step!(data)\n",
    "marginals[:m] # Inspect the result"
   ]
  },
  {
   "cell_type": "markdown",
   "metadata": {},
   "source": [
    "## 3. Sampling-based approximations of the posterior\n",
    "\n",
    "The above examples automatically approximated the posterior belief with a Gaussian through a Laplace approximation. However, a Gaussian belief might not always be the right choice of approximation, and often more flexibility is required.\n",
    "\n",
    "In this example, we use importance sampling to approximate the posterior belief with a set of samples and corresponding weights. Here, one message is designated as the sampling distribution, and the other message is used to determine the importance weights.\n",
    "\n",
    "We again consider a non-conjugate model, as defined below."
   ]
  },
  {
   "cell_type": "code",
   "execution_count": 7,
   "metadata": {},
   "outputs": [],
   "source": [
    "# Define a model\n",
    "g = FactorGraph()\n",
    "\n",
    "@RV l ~ Beta(2.0, 5.0)\n",
    "@RV y ~ Poisson(l)\n",
    "\n",
    "placeholder(y, :y)\n",
    ";"
   ]
  },
  {
   "cell_type": "code",
   "execution_count": 8,
   "metadata": {},
   "outputs": [],
   "source": [
    "# Infer an algorithm\n",
    "algo = sumProductAlgorithm(l)\n",
    "source_code = algorithmSourceCode(algo)\n",
    "eval(Meta.parse(source_code));\n",
    "# println(source_code) # Uncomment to inspect source code"
   ]
  },
  {
   "cell_type": "code",
   "execution_count": 9,
   "metadata": {},
   "outputs": [
    {
     "name": "stdout",
     "output_type": "stream",
     "text": [
      "The marginal for l is a ProbabilityDistribution{Univariate,SampleList} with mean 0.626 and variance 0.018\n"
     ]
    }
   ],
   "source": [
    "# Execute the algorithm\n",
    "data = Dict(:y => 7.0)\n",
    "marginals = step!(data)\n",
    "marg_l = marginals[:l]\n",
    "println(\"The marginal for l is a $(typeof(marg_l)) with mean $(round(mean(marg_l), digits=3)) and variance $(round(var(marg_l), digits=3))\")"
   ]
  },
  {
   "cell_type": "markdown",
   "metadata": {},
   "source": [
    "## 4. Hierarchical models and nonlinear functions\n",
    "\n",
    "A hierarchical model is a model where higher-layer beliefs constrain the statistics of lower-layer beliefs. In this example we consider a model where we have a top-level variable $z$ that constrains the precision of a lower-level variables $x$, which in turn controls the mean of an observed variable $y$. We are interested in obtaining posterior beliefs for both hierarchical layers."
   ]
  },
  {
   "cell_type": "code",
   "execution_count": 10,
   "metadata": {},
   "outputs": [],
   "source": [
    "# Build a hierarchical, nonlinear model\n",
    "g = FactorGraph()\n",
    "\n",
    "f(z) = exp(-z) # Nonlinear mapping between layers\n",
    "\n",
    "@RV z ~ GaussianMeanVariance(0.0, 1.0) # Higher layer\n",
    "@RV w ~ Nonlinear{Sampling}(z, g=f, n_samples=1000) # Connect layers\n",
    "@RV x ~ GaussianMeanPrecision(0.0, w) # Lower layer with controlled precision\n",
    "@RV y ~ GaussianMeanPrecision(x, 1.0) # Observation model\n",
    "\n",
    "placeholder(y, :y)\n",
    ";"
   ]
  },
  {
   "cell_type": "markdown",
   "metadata": {},
   "source": [
    "The nonlinear mapping between layers renders belief propagation intractable, even in this simple model. However, messages can still be computed through an importance sampling procedure. Samples from the higher layer are first transformed through the nonlinearity, with a set of accompanying weights. These weights are then importance-adjusted from the lower layer. A Laplace approximation then again ensures that the resulting beliefs are Gaussian."
   ]
  },
  {
   "cell_type": "code",
   "execution_count": 11,
   "metadata": {},
   "outputs": [],
   "source": [
    "# Infer an algorithm\n",
    "q = PosteriorFactorization(z, x, ids=[:Z, :X])\n",
    "algo = variationalAlgorithm(q, free_energy=true)\n",
    "source_code = algorithmSourceCode(algo, free_energy=true)\n",
    "eval(Meta.parse(source_code));\n",
    "# println(source_code) # Uncomment to inspect source code"
   ]
  },
  {
   "cell_type": "code",
   "execution_count": 12,
   "metadata": {},
   "outputs": [],
   "source": [
    "# Execute algorithm\n",
    "n_its = 5\n",
    "marginals = Dict()\n",
    "F = zeros(n_its)\n",
    "data = Dict(:y => 1.4)\n",
    "\n",
    "marginals[:z] = ProbabilityDistribution(Univariate, GaussianMeanVariance, m=0.0, v=1.0)\n",
    "marginals[:x] = ProbabilityDistribution(Univariate, GaussianMeanVariance, m=0.0, v=1.0)\n",
    "marginals[:w] = vague(SampleList)\n",
    "\n",
    "for i = 1:n_its\n",
    "    stepX!(data, marginals)\n",
    "    stepZ!(data, marginals)\n",
    "    \n",
    "    F[i] = freeEnergy(data, marginals)\n",
    "end"
   ]
  },
  {
   "cell_type": "code",
   "execution_count": 13,
   "metadata": {},
   "outputs": [
    {
     "data": {
      "text/plain": [
       "𝒩(m=-0.08, w=1.42)\n"
      ]
     },
     "execution_count": 13,
     "metadata": {},
     "output_type": "execute_result"
    }
   ],
   "source": [
    "marginals[:z] # Inspect higher-layer belief"
   ]
  },
  {
   "cell_type": "code",
   "execution_count": 14,
   "metadata": {},
   "outputs": [
    {
     "data": {
      "text/plain": [
       "𝒩(xi=1.40, w=2.34)\n"
      ]
     },
     "execution_count": 14,
     "metadata": {},
     "output_type": "execute_result"
    }
   ],
   "source": [
    "marginals[:x] # Inspect lower-layer belief"
   ]
  },
  {
   "cell_type": "code",
   "execution_count": 15,
   "metadata": {},
   "outputs": [
    {
     "name": "stdout",
     "output_type": "stream",
     "text": [
      "Free energy per iteration: 2.041, 1.951, 1.945, 1.949, 1.946"
     ]
    }
   ],
   "source": [
    "print(\"Free energy per iteration: \", join(round.(F, digits=3), \", \")) # Inspect free energy"
   ]
  },
  {
   "cell_type": "markdown",
   "metadata": {},
   "source": [
    "Because the process is stochastic, free energy may not decrease on every iteration.\n",
    "\n",
    "## 5. Hybrid models\n",
    "\n",
    "The nonlinear mapping allows us to define customized relations between random variables that may include conditional statements, loops, etc. We can then build highly flexible models, as exemplified below."
   ]
  },
  {
   "cell_type": "code",
   "execution_count": 16,
   "metadata": {},
   "outputs": [],
   "source": [
    "# Build a model\n",
    "g = FactorGraph()\n",
    "\n",
    "# Nonlinear mapping with included control flow\n",
    "function f(x)\n",
    "    if x[1] == 1\n",
    "        w = 0.1\n",
    "    elseif x[2] == 1\n",
    "        w = 1\n",
    "    elseif x[3] == 1\n",
    "        w = 10\n",
    "    end\n",
    "    \n",
    "    return w\n",
    "end\n",
    "\n",
    "@RV z ~ Dirichlet([2.1, 4.4, 3.2])\n",
    "@RV x ~ Categorical(z)\n",
    "@RV w ~ Nonlinear{Sampling}(x, g=f, n_samples=1000)\n",
    "@RV y ~ GaussianMeanPrecision(0, w)\n",
    "\n",
    "placeholder(y, :y)\n",
    ";"
   ]
  },
  {
   "cell_type": "code",
   "execution_count": 17,
   "metadata": {},
   "outputs": [],
   "source": [
    "# Infer algorithm\n",
    "q = PosteriorFactorization(z, x, ids=[:Z, :X])\n",
    "algo = variationalAlgorithm(q, free_energy=true)\n",
    "source_code = algorithmSourceCode(algo, free_energy=true)\n",
    "eval(Meta.parse(source_code));\n",
    "# println(source_code) # Uncomment to inspect source code"
   ]
  },
  {
   "cell_type": "code",
   "execution_count": 18,
   "metadata": {},
   "outputs": [],
   "source": [
    "# Execute algorithm\n",
    "n_its = 5\n",
    "marginals = Dict()\n",
    "F = zeros(n_its)\n",
    "data = Dict(:y => 1.4)\n",
    "\n",
    "marginals[:z] = ProbabilityDistribution(Dirichlet, a=[1.0, 1.0, 1.0])\n",
    "marginals[:x] = ProbabilityDistribution(Categorical, p=[0.3, 0.3, 0.4])\n",
    "marginals[:w] = vague(SampleList)\n",
    "\n",
    "for i = 1:n_its\n",
    "    stepZ!(data, marginals)\n",
    "    stepX!(data, marginals)\n",
    "    \n",
    "    F[i] = freeEnergy(data, marginals)\n",
    "end"
   ]
  },
  {
   "cell_type": "code",
   "execution_count": 19,
   "metadata": {},
   "outputs": [
    {
     "data": {
      "text/plain": [
       "Dir(a=[2.32, 5.18, 3.20])\n"
      ]
     },
     "execution_count": 19,
     "metadata": {},
     "output_type": "execute_result"
    }
   ],
   "source": [
    "marginals[:z] # Inspect higher-level belief"
   ]
  },
  {
   "cell_type": "code",
   "execution_count": 20,
   "metadata": {},
   "outputs": [
    {
     "name": "stdout",
     "output_type": "stream",
     "text": [
      "The marginal for x is a ProbabilityDistribution{Univariate,SampleList} with mean vector entries\n",
      "  [1]  =  0.233642\n",
      "  [2]  =  0.766144\n",
      "  [3]  =  0.000213632\n"
     ]
    }
   ],
   "source": [
    "# Inspect lower-level belief\n",
    "marg_x = marginals[:x]\n",
    "println(\"The marginal for x is a $(typeof(marg_x)) with mean vector entries\\n$(mean(marg_x))\")"
   ]
  },
  {
   "cell_type": "code",
   "execution_count": 21,
   "metadata": {},
   "outputs": [
    {
     "name": "stdout",
     "output_type": "stream",
     "text": [
      "Free energy per iteration: 2.477, 2.455, 2.456, 2.422, 2.454"
     ]
    }
   ],
   "source": [
    "print(\"Free energy per iteration: \", join(round.(F, digits=3), \", \")) # Inspect free energy"
   ]
  },
  {
   "cell_type": "markdown",
   "metadata": {},
   "source": [
    "During the free energy calculation, the differential entropy of the belief for $x$ is required. Because this belief is represented by a sample list (see above), the differential entropy is computed by Monte Carlo summation.\n",
    "\n",
    "## 6. Nonlinear functions with multiple arguments\n",
    "\n",
    "Lastly, an inference mechanism for nonlinear functions with multiple arguments is introduced. A joint Gaussian belief is obtained through Laplace approximation, Backward Gaussian messages towards input arguments are computed by marginalization and making use of the incoming messages. A simple example is given below."
   ]
  },
  {
   "cell_type": "code",
   "execution_count": 22,
   "metadata": {},
   "outputs": [],
   "source": [
    "# Build model\n",
    "g = FactorGraph()\n",
    "\n",
    "f(x, z) = x^2 + z^2\n",
    "\n",
    "@RV x ~ GaussianMeanVariance(1.0, 2.0)\n",
    "@RV z ~ GaussianMeanVariance(2.0, 1.0)\n",
    "@RV m ~ Nonlinear{Sampling}(x, z, g=f, n_samples=1000)\n",
    "@RV y ~ GaussianMeanVariance(m, 1.0)\n",
    "\n",
    "placeholder(y, :y)\n",
    ";"
   ]
  },
  {
   "cell_type": "code",
   "execution_count": 23,
   "metadata": {},
   "outputs": [],
   "source": [
    "# Infer algorithm\n",
    "algo = sumProductAlgorithm([x, z, m])\n",
    "source_code = algorithmSourceCode(algo)\n",
    "eval(Meta.parse(source_code));\n",
    "# println(source_code) # Uncomment to inspect source code"
   ]
  },
  {
   "cell_type": "code",
   "execution_count": 24,
   "metadata": {},
   "outputs": [],
   "source": [
    "# Execute algorithm\n",
    "data = Dict(:y => 4.2)\n",
    "marginals = step!(data)\n",
    ";"
   ]
  },
  {
   "cell_type": "code",
   "execution_count": 25,
   "metadata": {},
   "outputs": [
    {
     "data": {
      "text/plain": [
       "𝒩(xi=0.91, w=0.99)\n"
      ]
     },
     "execution_count": 25,
     "metadata": {},
     "output_type": "execute_result"
    }
   ],
   "source": [
    "marginals[:x] # Inspect results"
   ]
  },
  {
   "cell_type": "code",
   "execution_count": 26,
   "metadata": {},
   "outputs": [
    {
     "data": {
      "text/plain": [
       "𝒩(xi=6.75, w=3.63)\n"
      ]
     },
     "execution_count": 26,
     "metadata": {},
     "output_type": "execute_result"
    }
   ],
   "source": [
    "marginals[:z]"
   ]
  },
  {
   "cell_type": "code",
   "execution_count": 27,
   "metadata": {},
   "outputs": [
    {
     "name": "stdout",
     "output_type": "stream",
     "text": [
      "The marginal for m is a ProbabilityDistribution{Univariate,SampleList} with mean 4.194 and variance 0.94\n"
     ]
    }
   ],
   "source": [
    "marg_m = marginals[:m]\n",
    "println(\"The marginal for m is a $(typeof(marg_m)) with mean $(round(mean(marg_m), digits=3)) and variance $(round(var(marg_m), digits=3))\")"
   ]
  },
  {
   "cell_type": "code",
   "execution_count": null,
   "metadata": {},
   "outputs": [],
   "source": []
  }
 ],
 "metadata": {
  "@webio": {
   "lastCommId": null,
   "lastKernelId": null
  },
  "kernelspec": {
   "display_name": "Julia 1.2.0-rc1",
   "language": "julia",
   "name": "julia-1.2"
  },
  "language_info": {
   "file_extension": ".jl",
   "mimetype": "application/julia",
   "name": "julia",
   "version": "1.2.0"
  }
 },
 "nbformat": 4,
 "nbformat_minor": 2
}
